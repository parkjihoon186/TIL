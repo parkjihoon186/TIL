{
 "cells": [
  {
   "cell_type": "code",
   "execution_count": 3,
   "id": "4083e109",
   "metadata": {},
   "outputs": [],
   "source": [
    "import pandas as pd \n",
    "data=pd.read_csv(\"olist_customers_dataset.csv\")"
   ]
  },
  {
   "cell_type": "code",
   "execution_count": 4,
   "id": "3f0881cd",
   "metadata": {},
   "outputs": [
    {
     "name": "stdout",
     "output_type": "stream",
     "text": [
      "<class 'pandas.core.frame.DataFrame'>\n",
      "RangeIndex: 99441 entries, 0 to 99440\n",
      "Data columns (total 5 columns):\n",
      " #   Column                    Non-Null Count  Dtype \n",
      "---  ------                    --------------  ----- \n",
      " 0   customer_id               99441 non-null  object\n",
      " 1   customer_unique_id        99441 non-null  object\n",
      " 2   customer_zip_code_prefix  99441 non-null  int64 \n",
      " 3   customer_city             99441 non-null  object\n",
      " 4   customer_state            99441 non-null  object\n",
      "dtypes: int64(1), object(4)\n",
      "memory usage: 3.8+ MB\n"
     ]
    },
    {
     "data": {
      "text/html": [
       "<div>\n",
       "<style scoped>\n",
       "    .dataframe tbody tr th:only-of-type {\n",
       "        vertical-align: middle;\n",
       "    }\n",
       "\n",
       "    .dataframe tbody tr th {\n",
       "        vertical-align: top;\n",
       "    }\n",
       "\n",
       "    .dataframe thead th {\n",
       "        text-align: right;\n",
       "    }\n",
       "</style>\n",
       "<table border=\"1\" class=\"dataframe\">\n",
       "  <thead>\n",
       "    <tr style=\"text-align: right;\">\n",
       "      <th></th>\n",
       "      <th>customer_zip_code_prefix</th>\n",
       "    </tr>\n",
       "  </thead>\n",
       "  <tbody>\n",
       "    <tr>\n",
       "      <th>count</th>\n",
       "      <td>99441.000000</td>\n",
       "    </tr>\n",
       "    <tr>\n",
       "      <th>mean</th>\n",
       "      <td>35137.474583</td>\n",
       "    </tr>\n",
       "    <tr>\n",
       "      <th>std</th>\n",
       "      <td>29797.938996</td>\n",
       "    </tr>\n",
       "    <tr>\n",
       "      <th>min</th>\n",
       "      <td>1003.000000</td>\n",
       "    </tr>\n",
       "    <tr>\n",
       "      <th>25%</th>\n",
       "      <td>11347.000000</td>\n",
       "    </tr>\n",
       "    <tr>\n",
       "      <th>50%</th>\n",
       "      <td>24416.000000</td>\n",
       "    </tr>\n",
       "    <tr>\n",
       "      <th>75%</th>\n",
       "      <td>58900.000000</td>\n",
       "    </tr>\n",
       "    <tr>\n",
       "      <th>max</th>\n",
       "      <td>99990.000000</td>\n",
       "    </tr>\n",
       "  </tbody>\n",
       "</table>\n",
       "</div>"
      ],
      "text/plain": [
       "       customer_zip_code_prefix\n",
       "count              99441.000000\n",
       "mean               35137.474583\n",
       "std                29797.938996\n",
       "min                 1003.000000\n",
       "25%                11347.000000\n",
       "50%                24416.000000\n",
       "75%                58900.000000\n",
       "max                99990.000000"
      ]
     },
     "execution_count": 4,
     "metadata": {},
     "output_type": "execute_result"
    }
   ],
   "source": [
    "data.head()\n",
    "data.info()\n",
    "data.describe( )"
   ]
  },
  {
   "cell_type": "markdown",
   "id": "90878f20",
   "metadata": {},
   "source": [
    "## 결측치 보기  0으로 깨끗히 정제된 데이터라 판단됨 "
   ]
  },
  {
   "cell_type": "code",
   "execution_count": 5,
   "id": "dead84fc",
   "metadata": {},
   "outputs": [
    {
     "data": {
      "text/plain": [
       "customer_id                 0\n",
       "customer_unique_id          0\n",
       "customer_zip_code_prefix    0\n",
       "customer_city               0\n",
       "customer_state              0\n",
       "dtype: int64"
      ]
     },
     "execution_count": 5,
     "metadata": {},
     "output_type": "execute_result"
    }
   ],
   "source": [
    "data.isnull().sum()"
   ]
  },
  {
   "cell_type": "code",
   "execution_count": 6,
   "id": "497746b0",
   "metadata": {},
   "outputs": [
    {
     "data": {
      "text/plain": [
       "np.int64(3345)"
      ]
     },
     "execution_count": 6,
     "metadata": {},
     "output_type": "execute_result"
    }
   ],
   "source": [
    "data['customer_unique_id'].duplicated().sum()"
   ]
  },
  {
   "cell_type": "markdown",
   "id": "81ffa0fc",
   "metadata": {},
   "source": [
    "## 상위도시별 고객수 "
   ]
  },
  {
   "cell_type": "code",
   "execution_count": null,
   "id": "c9bccbe0",
   "metadata": {},
   "outputs": [
    {
     "name": "stdout",
     "output_type": "stream",
     "text": [
      "상위 10개 도시별 고객 수:\n",
      "                    city  customer_count\n",
      "0              sao paulo           15540\n",
      "1         rio de janeiro            6882\n",
      "2         belo horizonte            2773\n",
      "3               brasilia            2131\n",
      "4               curitiba            1521\n",
      "5               campinas            1444\n",
      "6           porto alegre            1379\n",
      "7               salvador            1245\n",
      "8              guarulhos            1189\n",
      "9  sao bernardo do campo             938\n",
      "------------------------------\n"
     ]
    },
    {
     "name": "stderr",
     "output_type": "stream",
     "text": [
      "C:\\Users\\Public\\Documents\\ESTsoft\\CreatorTemp\\ipykernel_41576\\3777946088.py:25: FutureWarning: \n",
      "\n",
      "Passing `palette` without assigning `hue` is deprecated and will be removed in v0.14.0. Assign the `y` variable to `hue` and set `legend=False` for the same effect.\n",
      "\n",
      "  sns.barplot(x=top_10_cities.values, y=top_10_cities.index, palette='viridis')\n",
      "C:\\Users\\Public\\Documents\\ESTsoft\\CreatorTemp\\ipykernel_41576\\3777946088.py:31: UserWarning: Glyph 44256 (\\N{HANGUL SYLLABLE GO}) missing from font(s) DejaVu Sans.\n",
      "  plt.tight_layout()\n",
      "C:\\Users\\Public\\Documents\\ESTsoft\\CreatorTemp\\ipykernel_41576\\3777946088.py:31: UserWarning: Glyph 44061 (\\N{HANGUL SYLLABLE GAEG}) missing from font(s) DejaVu Sans.\n",
      "  plt.tight_layout()\n",
      "C:\\Users\\Public\\Documents\\ESTsoft\\CreatorTemp\\ipykernel_41576\\3777946088.py:31: UserWarning: Glyph 49688 (\\N{HANGUL SYLLABLE SU}) missing from font(s) DejaVu Sans.\n",
      "  plt.tight_layout()\n",
      "C:\\Users\\Public\\Documents\\ESTsoft\\CreatorTemp\\ipykernel_41576\\3777946088.py:31: UserWarning: Glyph 46020 (\\N{HANGUL SYLLABLE DO}) missing from font(s) DejaVu Sans.\n",
      "  plt.tight_layout()\n",
      "C:\\Users\\Public\\Documents\\ESTsoft\\CreatorTemp\\ipykernel_41576\\3777946088.py:31: UserWarning: Glyph 49884 (\\N{HANGUL SYLLABLE SI}) missing from font(s) DejaVu Sans.\n",
      "  plt.tight_layout()\n",
      "C:\\Users\\Public\\Documents\\ESTsoft\\CreatorTemp\\ipykernel_41576\\3777946088.py:31: UserWarning: Glyph 49345 (\\N{HANGUL SYLLABLE SANG}) missing from font(s) DejaVu Sans.\n",
      "  plt.tight_layout()\n",
      "C:\\Users\\Public\\Documents\\ESTsoft\\CreatorTemp\\ipykernel_41576\\3777946088.py:31: UserWarning: Glyph 50948 (\\N{HANGUL SYLLABLE WI}) missing from font(s) DejaVu Sans.\n",
      "  plt.tight_layout()\n",
      "C:\\Users\\Public\\Documents\\ESTsoft\\CreatorTemp\\ipykernel_41576\\3777946088.py:31: UserWarning: Glyph 44060 (\\N{HANGUL SYLLABLE GAE}) missing from font(s) DejaVu Sans.\n",
      "  plt.tight_layout()\n",
      "C:\\Users\\Public\\Documents\\ESTsoft\\CreatorTemp\\ipykernel_41576\\3777946088.py:31: UserWarning: Glyph 48324 (\\N{HANGUL SYLLABLE BYEOL}) missing from font(s) DejaVu Sans.\n",
      "  plt.tight_layout()\n",
      "C:\\Users\\Public\\Documents\\ESTsoft\\CreatorTemp\\ipykernel_41576\\3777946088.py:31: UserWarning: Glyph 48516 (\\N{HANGUL SYLLABLE BUN}) missing from font(s) DejaVu Sans.\n",
      "  plt.tight_layout()\n",
      "C:\\Users\\Public\\Documents\\ESTsoft\\CreatorTemp\\ipykernel_41576\\3777946088.py:31: UserWarning: Glyph 54252 (\\N{HANGUL SYLLABLE PO}) missing from font(s) DejaVu Sans.\n",
      "  plt.tight_layout()\n",
      "C:\\Users\\Public\\Documents\\ESTsoft\\CreatorTemp\\ipykernel_41576\\3777946088.py:34: UserWarning: Glyph 44256 (\\N{HANGUL SYLLABLE GO}) missing from font(s) DejaVu Sans.\n",
      "  plt.savefig('customer_distribution.png')\n",
      "C:\\Users\\Public\\Documents\\ESTsoft\\CreatorTemp\\ipykernel_41576\\3777946088.py:34: UserWarning: Glyph 44061 (\\N{HANGUL SYLLABLE GAEG}) missing from font(s) DejaVu Sans.\n",
      "  plt.savefig('customer_distribution.png')\n",
      "C:\\Users\\Public\\Documents\\ESTsoft\\CreatorTemp\\ipykernel_41576\\3777946088.py:34: UserWarning: Glyph 49688 (\\N{HANGUL SYLLABLE SU}) missing from font(s) DejaVu Sans.\n",
      "  plt.savefig('customer_distribution.png')\n",
      "C:\\Users\\Public\\Documents\\ESTsoft\\CreatorTemp\\ipykernel_41576\\3777946088.py:34: UserWarning: Glyph 46020 (\\N{HANGUL SYLLABLE DO}) missing from font(s) DejaVu Sans.\n",
      "  plt.savefig('customer_distribution.png')\n",
      "C:\\Users\\Public\\Documents\\ESTsoft\\CreatorTemp\\ipykernel_41576\\3777946088.py:34: UserWarning: Glyph 49884 (\\N{HANGUL SYLLABLE SI}) missing from font(s) DejaVu Sans.\n",
      "  plt.savefig('customer_distribution.png')\n",
      "C:\\Users\\Public\\Documents\\ESTsoft\\CreatorTemp\\ipykernel_41576\\3777946088.py:34: UserWarning: Glyph 49345 (\\N{HANGUL SYLLABLE SANG}) missing from font(s) DejaVu Sans.\n",
      "  plt.savefig('customer_distribution.png')\n",
      "C:\\Users\\Public\\Documents\\ESTsoft\\CreatorTemp\\ipykernel_41576\\3777946088.py:34: UserWarning: Glyph 50948 (\\N{HANGUL SYLLABLE WI}) missing from font(s) DejaVu Sans.\n",
      "  plt.savefig('customer_distribution.png')\n",
      "C:\\Users\\Public\\Documents\\ESTsoft\\CreatorTemp\\ipykernel_41576\\3777946088.py:34: UserWarning: Glyph 44060 (\\N{HANGUL SYLLABLE GAE}) missing from font(s) DejaVu Sans.\n",
      "  plt.savefig('customer_distribution.png')\n",
      "C:\\Users\\Public\\Documents\\ESTsoft\\CreatorTemp\\ipykernel_41576\\3777946088.py:34: UserWarning: Glyph 48324 (\\N{HANGUL SYLLABLE BYEOL}) missing from font(s) DejaVu Sans.\n",
      "  plt.savefig('customer_distribution.png')\n",
      "C:\\Users\\Public\\Documents\\ESTsoft\\CreatorTemp\\ipykernel_41576\\3777946088.py:34: UserWarning: Glyph 48516 (\\N{HANGUL SYLLABLE BUN}) missing from font(s) DejaVu Sans.\n",
      "  plt.savefig('customer_distribution.png')\n",
      "C:\\Users\\Public\\Documents\\ESTsoft\\CreatorTemp\\ipykernel_41576\\3777946088.py:34: UserWarning: Glyph 54252 (\\N{HANGUL SYLLABLE PO}) missing from font(s) DejaVu Sans.\n",
      "  plt.savefig('customer_distribution.png')\n"
     ]
    },
    {
     "name": "stdout",
     "output_type": "stream",
     "text": [
      "그래프가 'customer_distribution.png' 파일로 저장되었습니다.\n"
     ]
    },
    {
     "name": "stderr",
     "output_type": "stream",
     "text": [
      "c:\\Users\\User\\AppData\\Local\\Programs\\Python\\Python313\\Lib\\site-packages\\IPython\\core\\pylabtools.py:170: UserWarning: Glyph 46020 (\\N{HANGUL SYLLABLE DO}) missing from font(s) DejaVu Sans.\n",
      "  fig.canvas.print_figure(bytes_io, **kw)\n",
      "c:\\Users\\User\\AppData\\Local\\Programs\\Python\\Python313\\Lib\\site-packages\\IPython\\core\\pylabtools.py:170: UserWarning: Glyph 49884 (\\N{HANGUL SYLLABLE SI}) missing from font(s) DejaVu Sans.\n",
      "  fig.canvas.print_figure(bytes_io, **kw)\n",
      "c:\\Users\\User\\AppData\\Local\\Programs\\Python\\Python313\\Lib\\site-packages\\IPython\\core\\pylabtools.py:170: UserWarning: Glyph 49345 (\\N{HANGUL SYLLABLE SANG}) missing from font(s) DejaVu Sans.\n",
      "  fig.canvas.print_figure(bytes_io, **kw)\n",
      "c:\\Users\\User\\AppData\\Local\\Programs\\Python\\Python313\\Lib\\site-packages\\IPython\\core\\pylabtools.py:170: UserWarning: Glyph 50948 (\\N{HANGUL SYLLABLE WI}) missing from font(s) DejaVu Sans.\n",
      "  fig.canvas.print_figure(bytes_io, **kw)\n",
      "c:\\Users\\User\\AppData\\Local\\Programs\\Python\\Python313\\Lib\\site-packages\\IPython\\core\\pylabtools.py:170: UserWarning: Glyph 44060 (\\N{HANGUL SYLLABLE GAE}) missing from font(s) DejaVu Sans.\n",
      "  fig.canvas.print_figure(bytes_io, **kw)\n",
      "c:\\Users\\User\\AppData\\Local\\Programs\\Python\\Python313\\Lib\\site-packages\\IPython\\core\\pylabtools.py:170: UserWarning: Glyph 48324 (\\N{HANGUL SYLLABLE BYEOL}) missing from font(s) DejaVu Sans.\n",
      "  fig.canvas.print_figure(bytes_io, **kw)\n",
      "c:\\Users\\User\\AppData\\Local\\Programs\\Python\\Python313\\Lib\\site-packages\\IPython\\core\\pylabtools.py:170: UserWarning: Glyph 44256 (\\N{HANGUL SYLLABLE GO}) missing from font(s) DejaVu Sans.\n",
      "  fig.canvas.print_figure(bytes_io, **kw)\n",
      "c:\\Users\\User\\AppData\\Local\\Programs\\Python\\Python313\\Lib\\site-packages\\IPython\\core\\pylabtools.py:170: UserWarning: Glyph 44061 (\\N{HANGUL SYLLABLE GAEG}) missing from font(s) DejaVu Sans.\n",
      "  fig.canvas.print_figure(bytes_io, **kw)\n",
      "c:\\Users\\User\\AppData\\Local\\Programs\\Python\\Python313\\Lib\\site-packages\\IPython\\core\\pylabtools.py:170: UserWarning: Glyph 48516 (\\N{HANGUL SYLLABLE BUN}) missing from font(s) DejaVu Sans.\n",
      "  fig.canvas.print_figure(bytes_io, **kw)\n",
      "c:\\Users\\User\\AppData\\Local\\Programs\\Python\\Python313\\Lib\\site-packages\\IPython\\core\\pylabtools.py:170: UserWarning: Glyph 54252 (\\N{HANGUL SYLLABLE PO}) missing from font(s) DejaVu Sans.\n",
      "  fig.canvas.print_figure(bytes_io, **kw)\n",
      "c:\\Users\\User\\AppData\\Local\\Programs\\Python\\Python313\\Lib\\site-packages\\IPython\\core\\pylabtools.py:170: UserWarning: Glyph 49688 (\\N{HANGUL SYLLABLE SU}) missing from font(s) DejaVu Sans.\n",
      "  fig.canvas.print_figure(bytes_io, **kw)\n"
     ]
    },
    {
     "data": {
      "image/png": "[encoded data removed]",
      "text/plain": [
       "<Figure size 1000x800 with 1 Axes>"
      ]
     },
     "metadata": {},
     "output_type": "display_data"
    }
   ],
   "source": [
    "data['customer_unique_id'].duplicated().sum()"
   ]
  },
  {
   "cell_type": "markdown",
   "id": "439793e1",
   "metadata": {},
   "source": [
    " 쌍파울로 가 왜 고객이 많은가?"
   ]
  },
  {
   "cell_type": "markdown",
   "id": "9e82135d",
   "metadata": {},
   "source": [
    " 브라질 에서 수도라 인구가 밀접되어있는가? \n",
    "\n",
    " 아님 우리가 마케팅을 잘한걸까?\n",
    "\n",
    " 우리의 상품이 현지화 전략에 잘먹힌걸까?"
   ]
  },
  {
   "cell_type": "markdown",
   "id": "2220ba3d",
   "metadata": {},
   "source": [
    "## 침투율"
   ]
  },
  {
   "cell_type": "code",
   "execution_count": 8,
   "id": "8a2a4372",
   "metadata": {},
   "outputs": [
    {
     "ename": "NameError",
     "evalue": "name 'analysis_df' is not defined",
     "output_type": "error",
     "traceback": [
      "\u001b[31m---------------------------------------------------------------------------\u001b[39m",
      "\u001b[31mNameError\u001b[39m                                 Traceback (most recent call last)",
      "\u001b[36mCell\u001b[39m\u001b[36m \u001b[39m\u001b[32mIn[8]\u001b[39m\u001b[32m, line 5\u001b[39m\n\u001b[32m      2\u001b[39m \u001b[38;5;28;01mimport\u001b[39;00m\u001b[38;5;250m \u001b[39m\u001b[34;01mseaborn\u001b[39;00m\u001b[38;5;250m \u001b[39m\u001b[38;5;28;01mas\u001b[39;00m\u001b[38;5;250m \u001b[39m\u001b[34;01msns\u001b[39;00m\n\u001b[32m      4\u001b[39m \u001b[38;5;66;03m# 인구 대비 고객 비율(%) 계산\u001b[39;00m\n\u001b[32m----> \u001b[39m\u001b[32m5\u001b[39m analysis_df[\u001b[33m'\u001b[39m\u001b[33mpenetration_rate\u001b[39m\u001b[33m'\u001b[39m] = (\u001b[43manalysis_df\u001b[49m[\u001b[33m'\u001b[39m\u001b[33mcustomer_count\u001b[39m\u001b[33m'\u001b[39m] / analysis_df[\u001b[33m'\u001b[39m\u001b[33mpopulation\u001b[39m\u001b[33m'\u001b[39m]) * \u001b[32m100\u001b[39m\n\u001b[32m      7\u001b[39m \u001b[38;5;66;03m# 침투율을 기준으로 데이터 정렬\u001b[39;00m\n\u001b[32m      8\u001b[39m analysis_df_sorted = analysis_df.sort_values(by=\u001b[33m'\u001b[39m\u001b[33mpenetration_rate\u001b[39m\u001b[33m'\u001b[39m, ascending=\u001b[38;5;28;01mFalse\u001b[39;00m)\n",
      "\u001b[31mNameError\u001b[39m: name 'analysis_df' is not defined"
     ]
    }
   ],
   "source": [
    "import matplotlib.pyplot as plt\n",
    "import seaborn as sns\n",
    "\n",
    "# 인구 대비 고객 비율(%) 계산\n",
    "analysis_df['penetration_rate'] = (analysis_df['customer_count'] / analysis_df['population']) * 100\n",
    "\n",
    "# 침투율을 기준으로 데이터 정렬\n",
    "analysis_df_sorted = analysis_df.sort_values(by='penetration_rate', ascending=False)\n",
    "\n",
    "# 침투율 시각화\n",
    "plt.figure(figsize=(12, 6))\n",
    "sns.barplot(x=analysis_df_sorted['city'], y=analysis_df_sorted['penetration_rate'], palette='Blues_d')\n",
    "plt.title('상위 10개 도시별 고객 침투율 (%)')\n",
    "plt.xlabel('도시')\n",
    "plt.ylabel('고객 침투율 (%)')\n",
    "plt.xticks(rotation=45, ha='right')\n",
    "plt.tight_layout()\n",
    "plt.show()\n",
    "\n",
    "print(analysis_df_sorted)"
   ]
  },
  {
   "cell_type": "code",
   "execution_count": null,
   "id": "086baac7",
   "metadata": {},
   "outputs": [
    {
     "name": "stdout",
     "output_type": "stream",
     "text": [
      "customer_city\n",
      "sao paulo                15540\n",
      "rio de janeiro            6882\n",
      "belo horizonte            2773\n",
      "brasilia                  2131\n",
      "curitiba                  1521\n",
      "campinas                  1444\n",
      "porto alegre              1379\n",
      "salvador                  1245\n",
      "guarulhos                 1189\n",
      "sao bernardo do campo      938\n"
     ]
    }
   ],
   "source": [
    "# 'customer_city' 컬럼을 기준으로 그룹화하고, 각 그룹의 크기를 계산합니다.\n",
    "city_counts = df.groupby('customer_city').size()\n",
    "\n",
    "# 결과를 내림차순으로 정렬하여 고객 수가 많은 도시부터 확인합니다.\n",
    "sorted_city_counts = city_counts.sort_values(ascending=False)\n",
    "\n",
    "# 상위 10개 도시의 고객 수를 표로 출력\n",
    "print(sorted_city_counts.head(10).to_string())"
   ]
  },
  {
   "cell_type": "markdown",
   "id": "bc612405",
   "metadata": {},
   "source": [
    "## 외부데이터 분석 인구도시 (IBGE)"
   ]
  },
  {
   "cell_type": "markdown",
   "id": "e5e3ebcf",
   "metadata": {},
   "source": [
    " 쌍파울로우 가 인구가 높아서 높은건가 그걸알기위해 상위도시를 분석하자 \n",
    "\n",
    "\n",
    "그것을 통해 진짜 쌍파울로우가 침투공략하기 좋은지를 보기위해 "
   ]
  },
  {
   "cell_type": "code",
   "execution_count": null,
   "id": "022b9924",
   "metadata": {},
   "outputs": [
    {
     "name": "stdout",
     "output_type": "stream",
     "text": [
      "                     city  customer_count  population  customer_penetration_rate\n",
      "10                niteroi             849    481749.0                   0.176233\n",
      "13                 santos             713    418608.0                   0.170326\n",
      "24                barueri             433    316473.0                   0.136821\n",
      "0               sao paulo           15540  11451999.0                   0.135697\n",
      "20                jundiai             565    443221.0                   0.127476\n",
      "5                campinas            1444   1139047.0                   0.126773\n",
      "2          belo horizonte            2773   2315560.0                   0.119755\n",
      "9   sao bernardo do campo             938    810729.0                   0.115698\n",
      "1          rio de janeiro            6882   6211223.0                   0.110799\n",
      "11            santo andre             797    748919.0                   0.106420\n",
      "19          florianopolis             570    537211.0                   0.106104\n",
      "6            porto alegre            1379   1332845.0                   0.103463\n",
      "12                 osasco             746    728615.0                   0.102386\n",
      "15    sao jose dos campos             691    697054.0                   0.099131\n",
      "8               guarulhos            1189   1291771.0                   0.092044\n",
      "17               sorocaba             633    723682.0                   0.087469\n",
      "4                curitiba            1521   1773718.0                   0.085752\n",
      "28        mogi das cruzes             383    451505.0                   0.084827\n",
      "3                brasilia            2131   2817381.0                   0.075638\n",
      "21         ribeirao preto             510    698642.0                   0.072999\n",
      "7                salvador            1245   2417678.0                   0.051496\n",
      "14                goiania             692   1437366.0                   0.048144\n",
      "18                 recife             613   1488920.0                   0.041171\n",
      "22                  belem             447   1303403.0                   0.034295\n",
      "16              fortaleza             654   2428708.0                   0.026928\n"
     ]
    }
   ],
   "source": [
    "import pandas as pd\n",
    "\n",
    "# 1. 고객 데이터 로드 및 도시별 고객 수 집계\n",
    "# 실제 olist_customers_dataset.csv 파일을 로드합니다.\n",
    "df_customers = pd.read_csv('olist_customers_dataset.csv')\n",
    "\n",
    "# 고객 도시 이름 전처리 (소문자, 공백 제거 등)\n",
    "df_customers['customer_city'] = df_customers['customer_city'].str.lower().str.strip()\n",
    "\n",
    "# 도시별 고객 수 집계 (상위 30개만 분석 대상)\n",
    "city_customer_counts = df_customers['customer_city'].value_counts().head(30)\n",
    "\n",
    "# 2. 제공된 인구 데이터를 딕셔너리로 변환\n",
    "population_data = {\n",
    "    'sao paulo': 11451999, 'rio de janeiro': 6211223, 'brasilia': 2817381,\n",
    "    'fortaleza': 2428708, 'salvador': 2417678, 'belo horizonte': 2315560,\n",
    "    'manaus': 2063689, 'curitiba': 1773718, 'recife': 1488920,\n",
    "    'goiania': 1437366, 'porto alegre': 1332845, 'belem': 1303403,\n",
    "    'guarulhos': 1291771, 'campinas': 1139047, 'sao luis': 1037775,\n",
    "    'maceio': 957916, 'campo grande': 898100, 'teresina': 866300,\n",
    "    'joao pessoa': 833932, 'sao bernardo do campo': 810729,\n",
    "    'duque de caxias': 808161, 'natal': 751300, 'santo andre': 748919,\n",
    "    'osasco': 728615, 'sorocaba': 723682, 'uberlandia': 713224,\n",
    "    'ribeirao preto': 698642, 'sao jose dos campos': 697054,\n",
    "    'cuiaba': 650877, 'aracaju': 602757, 'florianopolis': 537211,\n",
    "    'niteroi': 481749, 'sao jose do rio preto': 480393,\n",
    "    'vila velha': 467722, 'porto velho': 460434, 'mogi das cruzes': 451505,\n",
    "    'jundiai': 443221, 'macapa': 442933, 'campina grande': 419379,\n",
    "    'santos': 418608, 'maua': 418261, 'boa vista': 413486,\n",
    "    'anapolis': 398869, 'diadema': 393237, 'carapicuiba': 386984,\n",
    "    'bauru': 379146, 'itaquaquecetuba': 369275, 'rio branco': 364756,\n",
    "    'blumenau': 361261, 'franca': 352536, 'praia grande': 349935,\n",
    "    'uberaba': 337836, 'sao vicente': 329911, 'barueri': 316473,\n",
    "    'taubate': 310739, 'palmas': 302692, 'limeira': 291869,\n",
    "    'guaruja': 287634, 'foz do iguacu': 285415, 'sumare': 279545,\n",
    "    'petropolis': 278881, 'cotia': 274413, 'taboao da serra': 273542,\n",
    "    'maraba': 266533, 'indaiatuba': 255748, 'sao carlos': 254857,\n",
    "    'embudas artes': 250691, 'araraquara': 242228, 'jacarei': 240275,\n",
    "    'marilia': 237627, 'americana': 237240, 'hortolandia': 236641,\n",
    "    'itapevi': 232297, 'presidente prudente': 225668, 'cabo frio': 222161,\n",
    "    'cabo de santo agostinho': 203440, 'sobral': 203023, 'rio claro': 201418,\n",
    "    'aracatuba': 200124, 'cachoeiro de itapemirim': 185786,\n",
    "    'santa barbara d oeste': 183347, 'ferraz de vasconcelos': 179198,\n",
    "    'braganca paulista': 176811, 'itu': 168240, 'sao caetano do sul': 165655,\n",
    "    'pindamonhangaba': 165428, 'francisco morato': 165139,\n",
    "    'lages': 164981, 'patos de minas': 159235, 'atibaia': 158647,\n",
    "    'itapecerica da serra': 158522, 'itapetininga': 157790,\n",
    "    'santana de parnaiba': 154105, 'mogi guacu': 153658,\n",
    "    'botucatu': 145155, 'franco da rocha': 144849,\n",
    "    'caraguatatuba': 134873, 'salto': 134319, 'jau': 133497,\n",
    "    'santa cruz do sul': 133230\n",
    "}\n",
    "\n",
    "# 3. 고객 수와 인구 데이터를 합치기 위한 DataFrame 생성\n",
    "analysis_df = pd.DataFrame(city_customer_counts).reset_index()\n",
    "analysis_df.columns = ['city', 'customer_count']\n",
    "\n",
    "# 4. 인구 데이터를 맵핑하여 새로운 'population' 컬럼 추가\n",
    "analysis_df['population'] = analysis_df['city'].map(population_data)\n",
    "\n",
    "# 5. 고객 침투율 계산 (인구수가 있는 도시만)\n",
    "analysis_df['customer_penetration_rate'] = (analysis_df['customer_count'] / analysis_df['population']) * 100\n",
    "\n",
    "# 6. 인구수가 없는 도시는 제거하고, 침투율 기준으로 내림차순 정렬\n",
    "analysis_df = analysis_df.dropna(subset=['population'])\n",
    "analysis_df_sorted = analysis_df.sort_values(by='customer_penetration_rate', ascending=False)\n",
    "\n",
    "# 7. 최종 결과 출력\n",
    "print(analysis_df_sorted.to_string())"
   ]
  },
  {
   "cell_type": "code",
   "execution_count": null,
   "id": "d6b37dac",
   "metadata": {},
   "outputs": [
    {
     "name": "stderr",
     "output_type": "stream",
     "text": [
      "C:\\Users\\Public\\Documents\\ESTsoft\\CreatorTemp\\ipykernel_16148\\579700823.py:6: FutureWarning: \n",
      "\n",
      "Passing `palette` without assigning `hue` is deprecated and will be removed in v0.14.0. Assign the `x` variable to `hue` and set `legend=False` for the same effect.\n",
      "\n",
      "  sns.barplot(x='city', y='customer_penetration_rate', data=analysis_df_sorted, palette='viridis')\n",
      "C:\\Users\\Public\\Documents\\ESTsoft\\CreatorTemp\\ipykernel_16148\\579700823.py:12: UserWarning: Glyph 46020 (\\N{HANGUL SYLLABLE DO}) missing from font(s) DejaVu Sans.\n",
      "  plt.tight_layout() # 레이아웃 자동 조절\n",
      "C:\\Users\\Public\\Documents\\ESTsoft\\CreatorTemp\\ipykernel_16148\\579700823.py:12: UserWarning: Glyph 49884 (\\N{HANGUL SYLLABLE SI}) missing from font(s) DejaVu Sans.\n",
      "  plt.tight_layout() # 레이아웃 자동 조절\n",
      "C:\\Users\\Public\\Documents\\ESTsoft\\CreatorTemp\\ipykernel_16148\\579700823.py:12: UserWarning: Glyph 44256 (\\N{HANGUL SYLLABLE GO}) missing from font(s) DejaVu Sans.\n",
      "  plt.tight_layout() # 레이아웃 자동 조절\n",
      "C:\\Users\\Public\\Documents\\ESTsoft\\CreatorTemp\\ipykernel_16148\\579700823.py:12: UserWarning: Glyph 44061 (\\N{HANGUL SYLLABLE GAEG}) missing from font(s) DejaVu Sans.\n",
      "  plt.tight_layout() # 레이아웃 자동 조절\n",
      "C:\\Users\\Public\\Documents\\ESTsoft\\CreatorTemp\\ipykernel_16148\\579700823.py:12: UserWarning: Glyph 52840 (\\N{HANGUL SYLLABLE CIM}) missing from font(s) DejaVu Sans.\n",
      "  plt.tight_layout() # 레이아웃 자동 조절\n",
      "C:\\Users\\Public\\Documents\\ESTsoft\\CreatorTemp\\ipykernel_16148\\579700823.py:12: UserWarning: Glyph 53804 (\\N{HANGUL SYLLABLE TU}) missing from font(s) DejaVu Sans.\n",
      "  plt.tight_layout() # 레이아웃 자동 조절\n",
      "C:\\Users\\Public\\Documents\\ESTsoft\\CreatorTemp\\ipykernel_16148\\579700823.py:12: UserWarning: Glyph 50984 (\\N{HANGUL SYLLABLE YUL}) missing from font(s) DejaVu Sans.\n",
      "  plt.tight_layout() # 레이아웃 자동 조절\n",
      "C:\\Users\\Public\\Documents\\ESTsoft\\CreatorTemp\\ipykernel_16148\\579700823.py:12: UserWarning: Glyph 49345 (\\N{HANGUL SYLLABLE SANG}) missing from font(s) DejaVu Sans.\n",
      "  plt.tight_layout() # 레이아웃 자동 조절\n",
      "C:\\Users\\Public\\Documents\\ESTsoft\\CreatorTemp\\ipykernel_16148\\579700823.py:12: UserWarning: Glyph 50948 (\\N{HANGUL SYLLABLE WI}) missing from font(s) DejaVu Sans.\n",
      "  plt.tight_layout() # 레이아웃 자동 조절\n",
      "C:\\Users\\Public\\Documents\\ESTsoft\\CreatorTemp\\ipykernel_16148\\579700823.py:12: UserWarning: Glyph 48324 (\\N{HANGUL SYLLABLE BYEOL}) missing from font(s) DejaVu Sans.\n",
      "  plt.tight_layout() # 레이아웃 자동 조절\n",
      "C:\\Users\\Public\\Documents\\ESTsoft\\CreatorTemp\\ipykernel_16148\\579700823.py:12: UserWarning: Glyph 44060 (\\N{HANGUL SYLLABLE GAE}) missing from font(s) DejaVu Sans.\n",
      "  plt.tight_layout() # 레이아웃 자동 조절\n",
      "C:\\Users\\Public\\Documents\\ESTsoft\\CreatorTemp\\ipykernel_16148\\579700823.py:12: UserWarning: Glyph 48652 (\\N{HANGUL SYLLABLE BEU}) missing from font(s) DejaVu Sans.\n",
      "  plt.tight_layout() # 레이아웃 자동 조절\n",
      "C:\\Users\\Public\\Documents\\ESTsoft\\CreatorTemp\\ipykernel_16148\\579700823.py:12: UserWarning: Glyph 46972 (\\N{HANGUL SYLLABLE RA}) missing from font(s) DejaVu Sans.\n",
      "  plt.tight_layout() # 레이아웃 자동 조절\n",
      "C:\\Users\\Public\\Documents\\ESTsoft\\CreatorTemp\\ipykernel_16148\\579700823.py:12: UserWarning: Glyph 51656 (\\N{HANGUL SYLLABLE JIL}) missing from font(s) DejaVu Sans.\n",
      "  plt.tight_layout() # 레이아웃 자동 조절\n",
      "C:\\Users\\Public\\Documents\\ESTsoft\\CreatorTemp\\ipykernel_16148\\579700823.py:12: UserWarning: Glyph 48516 (\\N{HANGUL SYLLABLE BUN}) missing from font(s) DejaVu Sans.\n",
      "  plt.tight_layout() # 레이아웃 자동 조절\n",
      "C:\\Users\\Public\\Documents\\ESTsoft\\CreatorTemp\\ipykernel_16148\\579700823.py:12: UserWarning: Glyph 49437 (\\N{HANGUL SYLLABLE SEOG}) missing from font(s) DejaVu Sans.\n",
      "  plt.tight_layout() # 레이아웃 자동 조절\n",
      "c:\\Users\\User\\AppData\\Local\\Programs\\Python\\Python313\\Lib\\site-packages\\IPython\\core\\pylabtools.py:170: UserWarning: Glyph 44256 (\\N{HANGUL SYLLABLE GO}) missing from font(s) DejaVu Sans.\n",
      "  fig.canvas.print_figure(bytes_io, **kw)\n",
      "c:\\Users\\User\\AppData\\Local\\Programs\\Python\\Python313\\Lib\\site-packages\\IPython\\core\\pylabtools.py:170: UserWarning: Glyph 44061 (\\N{HANGUL SYLLABLE GAEG}) missing from font(s) DejaVu Sans.\n",
      "  fig.canvas.print_figure(bytes_io, **kw)\n",
      "c:\\Users\\User\\AppData\\Local\\Programs\\Python\\Python313\\Lib\\site-packages\\IPython\\core\\pylabtools.py:170: UserWarning: Glyph 52840 (\\N{HANGUL SYLLABLE CIM}) missing from font(s) DejaVu Sans.\n",
      "  fig.canvas.print_figure(bytes_io, **kw)\n",
      "c:\\Users\\User\\AppData\\Local\\Programs\\Python\\Python313\\Lib\\site-packages\\IPython\\core\\pylabtools.py:170: UserWarning: Glyph 53804 (\\N{HANGUL SYLLABLE TU}) missing from font(s) DejaVu Sans.\n",
      "  fig.canvas.print_figure(bytes_io, **kw)\n",
      "c:\\Users\\User\\AppData\\Local\\Programs\\Python\\Python313\\Lib\\site-packages\\IPython\\core\\pylabtools.py:170: UserWarning: Glyph 50984 (\\N{HANGUL SYLLABLE YUL}) missing from font(s) DejaVu Sans.\n",
      "  fig.canvas.print_figure(bytes_io, **kw)\n",
      "c:\\Users\\User\\AppData\\Local\\Programs\\Python\\Python313\\Lib\\site-packages\\IPython\\core\\pylabtools.py:170: UserWarning: Glyph 49345 (\\N{HANGUL SYLLABLE SANG}) missing from font(s) DejaVu Sans.\n",
      "  fig.canvas.print_figure(bytes_io, **kw)\n",
      "c:\\Users\\User\\AppData\\Local\\Programs\\Python\\Python313\\Lib\\site-packages\\IPython\\core\\pylabtools.py:170: UserWarning: Glyph 50948 (\\N{HANGUL SYLLABLE WI}) missing from font(s) DejaVu Sans.\n",
      "  fig.canvas.print_figure(bytes_io, **kw)\n",
      "c:\\Users\\User\\AppData\\Local\\Programs\\Python\\Python313\\Lib\\site-packages\\IPython\\core\\pylabtools.py:170: UserWarning: Glyph 46020 (\\N{HANGUL SYLLABLE DO}) missing from font(s) DejaVu Sans.\n",
      "  fig.canvas.print_figure(bytes_io, **kw)\n",
      "c:\\Users\\User\\AppData\\Local\\Programs\\Python\\Python313\\Lib\\site-packages\\IPython\\core\\pylabtools.py:170: UserWarning: Glyph 49884 (\\N{HANGUL SYLLABLE SI}) missing from font(s) DejaVu Sans.\n",
      "  fig.canvas.print_figure(bytes_io, **kw)\n",
      "c:\\Users\\User\\AppData\\Local\\Programs\\Python\\Python313\\Lib\\site-packages\\IPython\\core\\pylabtools.py:170: UserWarning: Glyph 48324 (\\N{HANGUL SYLLABLE BYEOL}) missing from font(s) DejaVu Sans.\n",
      "  fig.canvas.print_figure(bytes_io, **kw)\n",
      "c:\\Users\\User\\AppData\\Local\\Programs\\Python\\Python313\\Lib\\site-packages\\IPython\\core\\pylabtools.py:170: UserWarning: Glyph 44060 (\\N{HANGUL SYLLABLE GAE}) missing from font(s) DejaVu Sans.\n",
      "  fig.canvas.print_figure(bytes_io, **kw)\n",
      "c:\\Users\\User\\AppData\\Local\\Programs\\Python\\Python313\\Lib\\site-packages\\IPython\\core\\pylabtools.py:170: UserWarning: Glyph 48652 (\\N{HANGUL SYLLABLE BEU}) missing from font(s) DejaVu Sans.\n",
      "  fig.canvas.print_figure(bytes_io, **kw)\n",
      "c:\\Users\\User\\AppData\\Local\\Programs\\Python\\Python313\\Lib\\site-packages\\IPython\\core\\pylabtools.py:170: UserWarning: Glyph 46972 (\\N{HANGUL SYLLABLE RA}) missing from font(s) DejaVu Sans.\n",
      "  fig.canvas.print_figure(bytes_io, **kw)\n",
      "c:\\Users\\User\\AppData\\Local\\Programs\\Python\\Python313\\Lib\\site-packages\\IPython\\core\\pylabtools.py:170: UserWarning: Glyph 51656 (\\N{HANGUL SYLLABLE JIL}) missing from font(s) DejaVu Sans.\n",
      "  fig.canvas.print_figure(bytes_io, **kw)\n",
      "c:\\Users\\User\\AppData\\Local\\Programs\\Python\\Python313\\Lib\\site-packages\\IPython\\core\\pylabtools.py:170: UserWarning: Glyph 48516 (\\N{HANGUL SYLLABLE BUN}) missing from font(s) DejaVu Sans.\n",
      "  fig.canvas.print_figure(bytes_io, **kw)\n",
      "c:\\Users\\User\\AppData\\Local\\Programs\\Python\\Python313\\Lib\\site-packages\\IPython\\core\\pylabtools.py:170: UserWarning: Glyph 49437 (\\N{HANGUL SYLLABLE SEOG}) missing from font(s) DejaVu Sans.\n",
      "  fig.canvas.print_figure(bytes_io, **kw)\n"
     ]
    },
    {
     "data": {
      "image/png": "[encoded data removed]",
      "text/plain": [
       "<Figure size 1500x800 with 1 Axes>"
      ]
     },
     "metadata": {},
     "output_type": "display_data"
    }
   ],
   "source": [
    "import matplotlib.pyplot as plt\n",
    "import seaborn as sns\n",
    "\n",
    "# 침투율을 기준으로 내림차순 정렬된 데이터프레임 (analysis_df_sorted) 사용\n",
    "plt.figure(figsize=(15, 8)) # 그래프 크기 설정\n",
    "sns.barplot(x='city', y='customer_penetration_rate', data=analysis_df_sorted, palette='viridis')\n",
    "\n",
    "plt.title('상위 도시별 고객 침투율 (100개 브라질도시분석)', fontsize=20)\n",
    "plt.xlabel('도시', fontsize=14)\n",
    "plt.ylabel('고객 침투율 (%)', fontsize=14)\n",
    "plt.xticks(rotation=45, ha='right', fontsize=12) # 도시 이름이 겹치지 않게 기울이기\n",
    "plt.tight_layout() # 레이아웃 자동 조절\n",
    "\n",
    "plt.show() # 그래프를 화면에 표시"
   ]
  },
  {
   "cell_type": "markdown",
   "id": "fd764a35",
   "metadata": {},
   "source": [
    "## 그래서 쌍파울로우 가 침투력있는가?  \n",
    "\n",
    "## 분석결과 "
   ]
  },
  {
   "cell_type": "markdown",
   "id": "0de835b0",
   "metadata": {},
   "source": [
    "상파울루는 고객 수도, 침투율도 높다: sao paulo의 고객 침투율은 0.135%로, 여전히 높은 편에 속합니다. 이는 단순히 인구만 많은 것이 아니라, 인구 대비 우리 서비스의 고객 비중도 높다는 것을 의미합니다.\n",
    "\n",
    "'sao bernardo do campo'의 놀라운 침투율: sao bernardo do campo는 인구는 적지만, **고객 침투율이 0.115%**로 상파울루와 비슷한 수준을 보입니다. 이는 이 지역이 인구 규모에 비해 우리 서비스에 대한 관심이 매우 높거나, 특정 마케팅 전략이 효과적으로 작동했을 가능성을 시사합니다.\n",
    "\n",
    "상대적 효율성 파악: 이처럼 절대적인 고객 수만 보는 것이 아니라, 인구 대비 침투율을 함께 보면 어떤 시장이 더 효율적인지, 어떤 시장이 더 성장 잠재력이 큰지 객관적으로 파악할 수 있습니다.\n",
    "\n",
    "결론: 상파울루의 고객 수가 많은 이유는 인구 규모가 크고, 동시에 시장 침투율도 높기 때문입니다. 그리고 'sao bernardo do campo' 같은 도시들은 숨겨진 잠재력을 가진 시장이 될 수 있습니다."
   ]
  },
  {
   "cell_type": "markdown",
   "id": "50edd60a",
   "metadata": {},
   "source": [
    "## 내부데이터에서 힌트를 찾자"
   ]
  },
  {
   "cell_type": "markdown",
   "id": "c86c9f04",
   "metadata": {},
   "source": [
    " customer_zip_code_prefix와 customer_state 열을 분석하면 다음과 같은 힌트를 얻기"
   ]
  },
  {
   "cell_type": "markdown",
   "id": "017457c3",
   "metadata": {},
   "source": [
    "쌍파울로우 고객 찾기"
   ]
  },
  {
   "cell_type": "code",
   "execution_count": 15,
   "id": "1fd8c130",
   "metadata": {},
   "outputs": [
    {
     "name": "stdout",
     "output_type": "stream",
     "text": [
      "상파울루 고객 데이터:\n",
      "                         customer_id                customer_unique_id  customer_zip_code_prefix customer_city customer_state\n",
      "2   4e7b3e00288586ebd08712fdd0374a03  060e732b5b29e8181a18229c7b0b2b5e                      1151     sao paulo             SP\n",
      "6   fd826e7cf63160e536e0908c76c3f441  addec96d2e059c80c30fe6871d30d177                      4534     sao paulo             SP\n",
      "13  eabebad39a88bb6f5b52376faec28612  295c05e81917928d76245e842748184d                      5704     sao paulo             SP\n",
      "18  9b8ce803689b3562defaad4613ef426f  7f3a72e8f988c6e735ba118d54f47458                      5416     sao paulo             SP\n",
      "22  2938121a40a20953c43caa8c98787fcb  482441ea6a06b1f72fe9784756c0ea75                      5713     sao paulo             SP\n"
     ]
    }
   ],
   "source": [
    "import pandas as pd\n",
    "\n",
    "# CSV 파일 로드\n",
    "df = pd.read_csv('olist_customers_dataset.csv')\n",
    "\n",
    "# 도시 이름을 소문자로 통일\n",
    "df['customer_city'] = df['customer_city'].str.lower()\n",
    "\n",
    "# 상파울루 고객만 필터링\n",
    "sao_paulo_customers = df[df['customer_city'] == 'sao paulo']\n",
    "\n",
    "# 결과 확인 (상위 5개 행)\n",
    "print(\"상파울루 고객 데이터:\")\n",
    "print(sao_paulo_customers.head().to_string())"
   ]
  },
  {
   "cell_type": "markdown",
   "id": "02a9af11",
   "metadata": {},
   "source": [
    "\n",
    "\n",
    "브라질 통계청(IBGE)의 2024년 추정 자료\n",
    "\n",
    "상파울루 (São Paulo): 21,518,955명\n",
    "\n",
    "리우데자네이루 (Rio de Janeiro): 12,936,629명\n",
    "\n",
    "벨루오리존치 (Belo Horizonte): 5,997,565명\n",
    "\n",
    "브라질리아 (Brasília): 3,000,000명\n",
    "\n",
    "쿠리치바 (Curitiba): 1,773,718명\n",
    "\n",
    "캄피나스 (Campinas): 1,064,669명\n",
    "\n",
    "포르투알레그리 (Porto Alegre): 1,413,094명\n",
    "\n",
    "살바도르 (Salvador): 2,417,678명\n",
    "\n",
    "과룰류스 (Guarulhos): 1,299,283명\n",
    "\n",
    "상베르나르두두캄푸 (São Bernardo do Campo): 810,979명"
   ]
  },
  {
   "cell_type": "markdown",
   "id": "b0b5e364",
   "metadata": {},
   "source": [
    "그룹화 및 집계"
   ]
  },
  {
   "cell_type": "code",
   "execution_count": 18,
   "id": "02335264",
   "metadata": {},
   "outputs": [
    {
     "name": "stdout",
     "output_type": "stream",
     "text": [
      "\n",
      "상파울루 내 우편번호별 고객 수 (상위 10개):\n",
      "customer_zip_code_prefix\n",
      "8290    36\n",
      "4140    35\n",
      "5145    33\n",
      "4363    32\n",
      "4571    32\n",
      "5782    31\n",
      "3572    31\n",
      "5017    30\n",
      "1415    29\n",
      "1307    29\n"
     ]
    }
   ],
   "source": [
    "# 우편번호 앞자리를 기준으로 고객 수 집계\n",
    "zip_code_counts = sao_paulo_customers.groupby('customer_zip_code_prefix').size()\n",
    "\n",
    "# 고객 수가 많은 순서대로 정렬하여 상위 10개 출력\n",
    "top_zip_codes = zip_code_counts.sort_values(ascending=False).head(10)\n",
    "\n",
    "print(\"\\n상파울루 내 우편번호별 고객 수 (상위 10개):\")\n",
    "print(top_zip_codes.to_string())"
   ]
  },
  {
   "cell_type": "markdown",
   "id": "8791e538",
   "metadata": {},
   "source": [
    "상파울로우 안에 많이 거주하는곳은 "
   ]
  },
  {
   "cell_type": "code",
   "execution_count": 19,
   "id": "7d1bd9c1",
   "metadata": {},
   "outputs": [
    {
     "name": "stdout",
     "output_type": "stream",
     "text": [
      "상파울루 내 우편번호별 고객 수 (상위 10개):\n",
      "customer_zip_code_prefix\n",
      "8290    36\n",
      "4140    35\n",
      "5145    33\n",
      "4363    32\n",
      "4571    32\n",
      "3572    31\n",
      "5782    31\n",
      "5017    30\n",
      "1415    29\n",
      "1307    29\n"
     ]
    }
   ],
   "source": [
    "import pandas as pd\n",
    "\n",
    "# CSV 파일 로드\n",
    "df = pd.read_csv('olist_customers_dataset.csv')\n",
    "\n",
    "# 도시 이름을 소문자로 통일\n",
    "df['customer_city'] = df['customer_city'].str.lower()\n",
    "\n",
    "# 상파울루 고객만 필터링\n",
    "sao_paulo_customers = df[df['customer_city'] == 'sao paulo']\n",
    "\n",
    "# 우편번호(prefix)별 고객 수 집계\n",
    "zip_code_counts = sao_paulo_customers['customer_zip_code_prefix'].value_counts()\n",
    "\n",
    "# 고객 수가 많은 순서대로 상위 10개 출력\n",
    "print(\"상파울루 내 우편번호별 고객 수 (상위 10개):\")\n",
    "print(zip_code_counts.head(10).to_string())"
   ]
  },
  {
   "cell_type": "markdown",
   "id": "df38a1cb",
   "metadata": {},
   "source": [
    "8290-0000 으로 시작하는 우편번호가 많다는걸 앐수있다.\n",
    "\n",
    "08290-000 CEP는 상파울루 시 Vila Carmosina 지역의 Rua Victório Santim에 해당합니다 \n",
    "Código Postal\n",
    ".\n",
    "\n",
    "해당 코드의 다양한 경우를 조사한 결과, Itaquera 지역에도 08290-XXX 형태의 CEP (예: 08290-001, 08290-280 등)가 분포해 있음을 알 수 있습니다 \n",
    "Código Postal\n",
    "Rua CEP\n",
    "+1\n",
    "Guia Mais\n",
    ".\n",
    "\n",
    "즉, 8290으로 시작하는 고객 우편번호들은 Itaquera 또는 인접한 Vila Carmosina 지역에 속한다고 보는 것이 정확합니다."
   ]
  },
  {
   "cell_type": "markdown",
   "id": "98b5d51b",
   "metadata": {},
   "source": [
    "지리적환경 \n",
    "\n",
    "2. Itaquera 지역 분석 — 지리적 요소와 인프라\n",
    "교통과 인프라\n",
    "\n",
    "지하철 노선: 상파울루 메트로 **3-Red Line (Linha 3-Vermelha)**와 CPTM **11-Coral Express (Expresso Leste)**가 통과하는 Estação Corinthians-Itaquera 역이 있습니다 \n",
    "\n",
    ".\n",
    "\n",
    "고속도로 접근성:\n",
    "\n",
    "Avenida Jacu Pêssego (Nova Trabalhadores)\n",
    "\n",
    "Avenida Itaquera\n",
    "\n",
    "Avenida Radial Leste\n",
    "\n",
    "Rua Virginia Ferni 등 주요 도로망이 이웃 지역과의 연결성을 강화합니다 \n",
    "\n",
    ".\n",
    "\n",
    "상업 및 사회 기반시설:\n",
    "\n",
    "쇼핑 센터: Shopping Metrô Itaquera (Corinthians-Itaquera 역 인근)\n",
    "\n",
    "행정 서비스: Poupatempo 다기능 서비스센터 등\n",
    "\n",
    "문화시설: Planetário do Carmo (천문관) \n",
    "\n",
    "\n",
    "경제·주거 특성\n",
    "\n",
    "부동산 시장에서는 “Zone de Valor E” 등급으로 분류되어, 상대적으로 중저가 주거지로 평가됩니다 \n",
    "\n",
    "+1\n",
    ".\n",
    "\n",
    "주택 신축 활성 지역으로, 2022년 한 해에만 약 2,000세대 이상의 신규 아파트가 출시된 주요 개발지역 중 하나입니다 \n",
    "\n",
    ".\n",
    "\n",
    "거주 밀집 및 주거 특성: 주거단지 (COHAB 등) 중심의 지역이며, José Bonifácio 구역과 경계가 모호해 일부 082 prefix 지역이 혼재되어 있습니다 \n",
    "\n",
    ".\n",
    "\n",
    "인접 지역\n",
    "\n",
    "북쪽: São Miguel Paulista, Vila Jacuí\n",
    "\n",
    "동쪽: Lajeado\n",
    "\n",
    "남쪽: José Bonifácio, Cidade Líder, Parque do Carmo\n",
    "\n",
    "서쪽: Artur Alvim, Ponte Rasa \n",
    "\n",
    "."
   ]
  },
  {
   "cell_type": "markdown",
   "id": "5a5570e5",
   "metadata": {},
   "source": []
  }
 ],
 "metadata": {
  "kernelspec": {
   "display_name": "Python 3",
   "language": "python",
   "name": "python3"
  },
  "language_info": {
   "codemirror_mode": {
    "name": "ipython",
    "version": 3
   },
   "file_extension": ".py",
   "mimetype": "text/x-python",
   "name": "python",
   "nbconvert_exporter": "python",
   "pygments_lexer": "ipython3",
   "version": "3.13.2"
  }
 },
 "nbformat": 4,
 "nbformat_minor": 5
}
