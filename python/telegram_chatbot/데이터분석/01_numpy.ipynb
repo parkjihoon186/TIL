{
 "cells": [
  {
   "cell_type": "code",
   "execution_count": 17,
   "id": "339cf6d6",
   "metadata": {},
   "outputs": [
    {
     "ename": "SyntaxError",
     "evalue": "illegal target for annotation (852111171.py, line 3)",
     "output_type": "error",
     "traceback": [
      "  \u001b[36mCell\u001b[39m\u001b[36m \u001b[39m\u001b[32mIn[17]\u001b[39m\u001b[32m, line 3\u001b[39m\n\u001b[31m    \u001b[39m\u001b[31m- 데이터분석: 데이터를 분석하여 의사결정에 도움을 준다.\u001b[39m\n    ^\n\u001b[31mSyntaxError\u001b[39m\u001b[31m:\u001b[39m illegal target for annotation\n"
     ]
    }
   ],
   "source": [
    "#'01_numpy.ipynb'\n",
    "\n",
    "- 데이터분석: 데이터를 분석하여 의사결정에 도움을 준다.\n",
    "- 통계 vs 데이터분석 vs 머신러닝\n",
    "    -통계: 데이터를 요약,해석하는 수학(평균,분산)\n",
    "    -데이터분석: 문제를 정의하고 인사이트 도출(고객 구매 패턴분석)\n",
    "    -머신러닝:데이터를 학습하여 **예측** (스팸함 분류, 추천)\n",
    "-데이터분석: 데이터를 분석하여 의사결정에 도움을 준다 .\n",
    "    - 의사결정 데이터 기반의 근거 \n",
    "    -패턴발견,예측(머신러닝)\n",
    "\n",
    "-DA FLOW(흐름)\n",
    "1.문제정의\n",
    "2.데이터수집\n",
    "3.데이터정제\n",
    "4.탐색-시각화(결측치,이상치 처리 )\n",
    "5.통계분석 및 해석(수학 -> 가설 검정,회귀분석)\n",
    "6.결론도출 \n",
    "\n",
    "-시트 vs DB VS python \n",
    "    -시트는 편함.\n",
    "    -DB는 대용량 CRUD 처 (억단위)\n",
    "    -파이썬 시각화 ,분석,머신러닝\n",
    "\n",
    "- 라이브러리\n",
    "    -'numpy':빠름(배열연산) 파이썬 리스트 vs Numpy 배열 차이점\n",
    "    -'pandas':표(DataFrame)-> 'numpy'기반으로 만들어짐\n",
    "    'matplotlib': 시각화 기본(그래프\n",
    "    'seaborn': 시각화 심화\n",
    "\n"
   ]
  },
  {
   "cell_type": "code",
   "execution_count": null,
   "id": "741ca220",
   "metadata": {},
   "outputs": [],
   "source": [
    "%pip install numpy"
   ]
  },
  {
   "cell_type": "code",
   "execution_count": null,
   "id": "c1abf441",
   "metadata": {},
   "outputs": [
    {
     "name": "stdout",
     "output_type": "stream",
     "text": [
      "[2, 4, 6, 8, 10]\n"
     ]
    }
   ],
   "source": [
    "python_list=[1,2,3,4,5]\n",
    "# [2,4,6,8,10]\n",
    "result= [x*2 for x in python_list]\n",
    "print(result)"
   ]
  },
  {
   "cell_type": "code",
   "execution_count": null,
   "id": "ddc12e63",
   "metadata": {},
   "outputs": [
    {
     "name": "stdout",
     "output_type": "stream",
     "text": [
      "Collecting numpy\n",
      "  Downloading numpy-2.3.2-cp313-cp313-win_amd64.whl.metadata (60 kB)\n",
      "Downloading numpy-2.3.2-cp313-cp313-win_amd64.whl (12.8 MB)\n",
      "   ---------------------------------------- 0.0/12.8 MB ? eta -:--:--\n",
      "   ------------- -------------------------- 4.2/12.8 MB 31.1 MB/s eta 0:00:01\n",
      "   --------------- ------------------------ 5.0/12.8 MB 17.7 MB/s eta 0:00:01\n",
      "   ------------------ --------------------- 6.0/12.8 MB 10.3 MB/s eta 0:00:01\n",
      "   ---------------------- ----------------- 7.3/12.8 MB 10.0 MB/s eta 0:00:01\n",
      "   ---------------------------------- ----- 11.0/12.8 MB 10.7 MB/s eta 0:00:01\n",
      "   ---------------------------------------  12.6/12.8 MB 10.4 MB/s eta 0:00:01\n",
      "   ---------------------------------------- 12.8/12.8 MB 10.1 MB/s eta 0:00:00\n",
      "Installing collected packages: numpy\n",
      "Successfully installed numpy-2.3.2\n",
      "Note: you may need to restart the kernel to use updated packages.\n"
     ]
    },
    {
     "name": "stderr",
     "output_type": "stream",
     "text": [
      "\n",
      "[notice] A new release of pip is available: 24.3.1 -> 25.1.1\n",
      "[notice] To update, run: python.exe -m pip install --upgrade pip\n"
     ]
    }
   ],
   "source": [
    "%pip install numpy"
   ]
  },
  {
   "cell_type": "code",
   "execution_count": null,
   "id": "1795d6a9",
   "metadata": {},
   "outputs": [],
   "source": [
    "import numpy as np\n",
    "\n",
    "array = np.array([1,2,3,4,5])\n",
    "result = array * 2\n",
    "print(result)"
   ]
  },
  {
   "cell_type": "code",
   "execution_count": null,
   "id": "bf3b0f04",
   "metadata": {},
   "outputs": [],
   "source": [
    "#실수형 arr\n",
    "import numpy as np\n",
    "\n",
    "arr = np.array([1, 2, 3], dtype=float)\n",
    "\n"
   ]
  },
  {
   "cell_type": "code",
   "execution_count": null,
   "id": "45a452af",
   "metadata": {},
   "outputs": [
    {
     "name": "stdout",
     "output_type": "stream",
     "text": [
      "range: [0 2 4 6 8]\n",
      "linspace: [0.   0.25 0.5  0.75 1.  ]\n",
      "logspace: [  1.           3.16227766  10.          31.6227766  100.        ]\n"
     ]
    }
   ],
   "source": [
    "import numpy as np  # NumPy를 사용하려면 먼저 import 해야 합니다.\n",
    "\n",
    "# range: 0부터 10까지 2 간격으로 생성 (0, 2, 4, 6, 8)\n",
    "range_arr = np.arange(0, 10, 2)\n",
    "print(\"range:\", range_arr)\n",
    "\n",
    "# linspace: 0부터 1까지 5개의 등간격 실수 배열 생성\n",
    "lin_space = np.linspace(0, 1, 5)\n",
    "print(\"linspace:\", lin_space)\n",
    "\n",
    "# logspace: 10^0 부터 10^2까지 로그 스케일로 5개 값 생성\n",
    "log_space = np.logspace(0, 2, 5)\n",
    "print(\"logspace:\", log_space)\n"
   ]
  },
  {
   "cell_type": "code",
   "execution_count": null,
   "id": "17ada668",
   "metadata": {},
   "outputs": [
    {
     "name": "stdout",
     "output_type": "stream",
     "text": [
      "[[0.23615878 0.34850396 0.8963349 ]\n",
      " [0.04662542 0.58230081 0.89762702]\n",
      " [0.72123809 0.33336958 0.53099282]]\n",
      "[[ 1.1955303  -0.58276873 -0.20860564]\n",
      " [ 0.29955818 -0.67696086 -1.01309551]\n",
      " [-0.5759643   0.22364468 -1.08064091]]\n"
     ]
    },
    {
     "ename": "NameError",
     "evalue": "name 'int_random' is not defined",
     "output_type": "error",
     "traceback": [
      "\u001b[31m---------------------------------------------------------------------------\u001b[39m",
      "\u001b[31mNameError\u001b[39m                                 Traceback (most recent call last)",
      "\u001b[36mCell\u001b[39m\u001b[36m \u001b[39m\u001b[32mIn[13]\u001b[39m\u001b[32m, line 9\u001b[39m\n\u001b[32m      6\u001b[39m \u001b[38;5;28mprint\u001b[39m(normal)\n\u001b[32m      8\u001b[39m \u001b[38;5;66;03m#정수 난수(0~9,3*3)\u001b[39;00m\n\u001b[32m----> \u001b[39m\u001b[32m9\u001b[39m \u001b[43mint_random\u001b[49m.seed(\u001b[32m42\u001b[39m) \u001b[38;5;66;03m#랜덤 상황42고정\u001b[39;00m\n\u001b[32m     10\u001b[39m \u001b[38;5;28mprint\u001b[39m(int_random)\n\u001b[32m     12\u001b[39m \u001b[38;5;66;03m#시드 설정(랜덤 재현 가능)\u001b[39;00m\n",
      "\u001b[31mNameError\u001b[39m: name 'int_random' is not defined"
     ]
    }
   ],
   "source": [
    "#난수 배열 \n",
    "random= np.random.rand(3,3) #0~1실수\n",
    "print(random)\n",
    "#*정규 분포 난수 \n",
    "normal = np.random.randn(3,3)\n",
    "print(normal)\n",
    "\n",
    "#정수 난수(0~9,3*3)\n",
    "int_random.seed(42) #랜덤 상황42고정\n",
    "print(int_random)\n",
    "\n",
    "#시드 설정(랜덤 재현 가능)\n",
    "np.random.seed(42) # 랜덤 상황 42고정 \n",
    "np.random.rand(3)\n",
    "\n"
   ]
  },
  {
   "cell_type": "code",
   "execution_count": null,
   "id": "c202f908",
   "metadata": {},
   "outputs": [],
   "source": [
    "#배열의 데이터 타입\n",
    "#데이터 타입확인\n",
    "arr= np.array([1,2,3])\n",
    "print(arr.dtype)\n",
    "\n",
    "#데이터 타입 지정 생성\n",
    "f_arr = np.array([1,2,3],dtype=np.float64\n",
    "print(f_arr.dtype)\n",
    "\n",
    "#데이터 타입 변경 (int - > float)\n",
    "converted = arr.astype(np.float32)\n",
    "print(converted.dtype)\n",
    "#문자열 -> 숫자\n",
    "str_arr = np.array(['1.2','2.3',\n",
    "                 \n"
   ]
  },
  {
   "cell_type": "code",
   "execution_count": null,
   "id": "076d0858",
   "metadata": {},
   "outputs": [
    {
     "ename": "NameError",
     "evalue": "name 'reshaped2d' is not defined",
     "output_type": "error",
     "traceback": [
      "\u001b[31m---------------------------------------------------------------------------\u001b[39m",
      "\u001b[31mNameError\u001b[39m                                 Traceback (most recent call last)",
      "\u001b[36mCell\u001b[39m\u001b[36m \u001b[39m\u001b[32mIn[14]\u001b[39m\u001b[32m, line 4\u001b[39m\n\u001b[32m      2\u001b[39m arr = np.arange(\u001b[32m12\u001b[39m)\n\u001b[32m      3\u001b[39m reshaped= arr.reshape(\u001b[32m3\u001b[39m,\u001b[32m4\u001b[39m)\n\u001b[32m----> \u001b[39m\u001b[32m4\u001b[39m \u001b[38;5;28mprint\u001b[39m(\u001b[43mreshaped2d\u001b[49m)\n\u001b[32m      6\u001b[39m reshaped3d = arr.reshape(\u001b[32m2\u001b[39m,\u001b[32m2\u001b[39m,\u001b[32m3\u001b[39m)\n\u001b[32m      7\u001b[39m prnt(reshaped3d)\n",
      "\u001b[31mNameError\u001b[39m: name 'reshaped2d' is not defined"
     ]
    }
   ],
   "source": [
    "# 배열 재구성 \n",
    "arr = np.arange(12)\n",
    "reshaped= arr.reshape(3,4)\n",
    "print(reshaped2d)\n",
    "\n",
    "reshaped3d = arr.reshape(2,2,3) #2페이지,2row *3col\n",
    "prnt(reshaped3d)\n",
    "\n",
    "#자동계산\n",
    "auto1=arr.reshape(3,-1)\n",
    "auto2=arr.reshape(-1,6)"
   ]
  },
  {
   "cell_type": "code",
   "execution_count": null,
   "id": "b3ed96e1",
   "metadata": {},
   "outputs": [],
   "source": [
    "#reshape -> 원본 그대로 ,새로운 배열만들"
   ]
  },
  {
   "cell_type": "code",
   "execution_count": null,
   "id": "50e35a76",
   "metadata": {},
   "outputs": [],
   "source": [
    "# 1~15 정수배열\n",
    "print(np.arrange(1,16),np.array(range(1,16)))\n",
    "#0~9까지 홀수\n",
    "print(np.arrange(1,10,2))\n",
    "\n",
    "#0~3까지 균등 6등분(5구간) 배열\n",
    "print(np.linspace(o,3,6))"
   ]
  },
  {
   "cell_type": "code",
   "execution_count": null,
   "id": "ef659cdf",
   "metadata": {},
   "outputs": [],
   "source": [
    "#4 *4 단위 행렬(identity matrix) -> 대각선1,나머지0\n",
    "print(np.eye(4))\n",
    "#3* 4 사이즈의 1로 가득찬 int 배열\n",
    "np.ones((3,4), dtype=int)"
   ]
  },
  {
   "cell_type": "code",
   "execution_count": null,
   "id": "bcee071b",
   "metadata": {},
   "outputs": [],
   "source": [
    "# 2 * 3 * 4 사이즈 0~1 난수배열 "
   ]
  },
  {
   "cell_type": "code",
   "execution_count": null,
   "id": "bd129a25",
   "metadata": {},
   "outputs": [
    {
     "name": "stdout",
     "output_type": "stream",
     "text": [
      "[1 2 3 4 5 6]\n",
      "[[100   2   3]\n",
      " [  4   5   6]]\n",
      "[100   2   3   4   5   6] [-100    2    3    4    5    6]\n"
     ]
    }
   ],
   "source": [
    "# N차원 -> 1차원\n",
    "import numpy as np\n",
    "\n",
    "arr = np.array([[1, 2, 3], [4, 5, 6]])\n",
    "flattened = arr.flatten()\n",
    "print(flattened)  # 출력: [1 2 3 4 5 6]\n",
    "\n",
    "\n",
    "r=arr.ravel()\n",
    "f=arr.flatten()\n",
    "\n",
    "r[0]=100\n",
    "f[0]=-100\n",
    "\n",
    "print(arr)\n",
    "print(r,f)"
   ]
  },
  {
   "cell_type": "markdown",
   "id": "b8da8acb",
   "metadata": {},
   "source": [
    "***배열의 인덱싱/슬라이싱"
   ]
  },
  {
   "cell_type": "code",
   "execution_count": 20,
   "id": "4050f35a",
   "metadata": {},
   "outputs": [
    {
     "ename": "IndentationError",
     "evalue": "unexpected indent (890595901.py, line 4)",
     "output_type": "error",
     "traceback": [
      "  \u001b[36mCell\u001b[39m\u001b[36m \u001b[39m\u001b[32mIn[20]\u001b[39m\u001b[32m, line 4\u001b[39m\n\u001b[31m    \u001b[39m\u001b[31mprint(arr)\u001b[39m\n    ^\n\u001b[31mIndentationError\u001b[39m\u001b[31m:\u001b[39m unexpected indent\n"
     ]
    }
   ],
   "source": [
    "arr= np.array([10,20,30,40,50])\n",
    "# 접근\n",
    "print(arr[0],arr[2],arr[-1],arr[-2])\n",
    "      print(arr)"
   ]
  }
 ],
 "metadata": {
  "kernelspec": {
   "display_name": "Python 3",
   "language": "python",
   "name": "python3"
  },
  "language_info": {
   "codemirror_mode": {
    "name": "ipython",
    "version": 3
   },
   "file_extension": ".py",
   "mimetype": "text/x-python",
   "name": "python",
   "nbconvert_exporter": "python",
   "pygments_lexer": "ipython3",
   "version": "3.13.2"
  }
 },
 "nbformat": 4,
 "nbformat_minor": 5
}
