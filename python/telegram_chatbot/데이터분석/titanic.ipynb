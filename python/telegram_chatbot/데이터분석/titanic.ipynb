{
 "cells": [
  {
   "cell_type": "code",
   "execution_count": 23,
   "id": "5c2fee7e",
   "metadata": {},
   "outputs": [
    {
     "name": "stdout",
     "output_type": "stream",
     "text": [
      "Note: you may need to restart the kernel to use updated packages.\n",
      "타이타닉 데이터 미리보기:\n",
      "   survived  pclass     sex   age  sibsp  parch     fare embarked  class  \\\n",
      "0         0       3    male  22.0      1      0   7.2500        S  Third   \n",
      "1         1       1  female  38.0      1      0  71.2833        C  First   \n",
      "2         1       3  female  26.0      0      0   7.9250        S  Third   \n",
      "3         1       1  female  35.0      1      0  53.1000        S  First   \n",
      "4         0       3    male  35.0      0      0   8.0500        S  Third   \n",
      "\n",
      "     who  adult_male deck  embark_town alive  alone  \n",
      "0    man        True  NaN  Southampton    no  False  \n",
      "1  woman       False    C    Cherbourg   yes  False  \n",
      "2  woman       False  NaN  Southampton   yes   True  \n",
      "3  woman       False    C  Southampton   yes  False  \n",
      "4    man        True  NaN  Southampton    no   True  \n",
      "\n",
      "데이터셋 정보:\n",
      "<class 'pandas.core.frame.DataFrame'>\n",
      "RangeIndex: 891 entries, 0 to 890\n",
      "Data columns (total 15 columns):\n",
      " #   Column       Non-Null Count  Dtype   \n",
      "---  ------       --------------  -----   \n",
      " 0   survived     891 non-null    int64   \n",
      " 1   pclass       891 non-null    int64   \n",
      " 2   sex          891 non-null    object  \n",
      " 3   age          714 non-null    float64 \n",
      " 4   sibsp        891 non-null    int64   \n",
      " 5   parch        891 non-null    int64   \n",
      " 6   fare         891 non-null    float64 \n",
      " 7   embarked     889 non-null    object  \n",
      " 8   class        891 non-null    category\n",
      " 9   who          891 non-null    object  \n",
      " 10  adult_male   891 non-null    bool    \n",
      " 11  deck         203 non-null    category\n",
      " 12  embark_town  889 non-null    object  \n",
      " 13  alive        891 non-null    object  \n",
      " 14  alone        891 non-null    bool    \n",
      "dtypes: bool(2), category(2), float64(2), int64(4), object(5)\n",
      "memory usage: 80.7+ KB\n",
      "None\n",
      "\n",
      "데이터 요약 통계:\n",
      "         survived      pclass         age       sibsp       parch        fare\n",
      "count  891.000000  891.000000  714.000000  891.000000  891.000000  891.000000\n",
      "mean     0.383838    2.308642   29.699118    0.523008    0.381594   32.204208\n",
      "std      0.486592    0.836071   14.526497    1.102743    0.806057   49.693429\n",
      "min      0.000000    1.000000    0.420000    0.000000    0.000000    0.000000\n",
      "25%      0.000000    2.000000   20.125000    0.000000    0.000000    7.910400\n",
      "50%      0.000000    3.000000   28.000000    0.000000    0.000000   14.454200\n",
      "75%      1.000000    3.000000   38.000000    1.000000    0.000000   31.000000\n",
      "max      1.000000    3.000000   80.000000    8.000000    6.000000  512.329200\n"
     ]
    },
    {
     "name": "stderr",
     "output_type": "stream",
     "text": [
      "\n",
      "[notice] A new release of pip is available: 24.3.1 -> 25.1.1\n",
      "[notice] To update, run: python.exe -m pip install --upgrade pip\n"
     ]
    }
   ],
   "source": [
    "# -q (quiet) 옵션은 설치 로그를 안보여줌(조용히함)\n",
    "%pip install -q seaborn\n",
    "# 타이타닉 데이터셋 불러오기\n",
    "# (pandas에 기본 내장된 예제 데이터셋)\n",
    "import seaborn as sns\n",
    "import pandas as pd\n",
    "\n",
    "# titanic 데이터 DataFrame\n",
    "titanic = sns.load_dataset('titanic')\n",
    "\n",
    "# 처음 5개 행 보기\n",
    "print(\"타이타닉 데이터 미리보기:\")\n",
    "print(titanic.head())\n",
    "\n",
    "# 데이터셋 정보 확인\n",
    "print(\"\\n데이터셋 정보:\")\n",
    "print(titanic.info())\n",
    "\n",
    "# 데이터 요약 통계\n",
    "print(\"\\n데이터 요약 통계:\")\n",
    "print(titanic.describe())"
   ]
  },
  {
   "cell_type": "code",
   "execution_count": 15,
   "id": "90b54450",
   "metadata": {},
   "outputs": [
    {
     "name": "stdout",
     "output_type": "stream",
     "text": [
      "pclass\n",
      "3    491\n",
      "1    216\n",
      "2    184\n",
      "Name: count, dtype: int64\n"
     ]
    },
    {
     "data": {
      "text/plain": [
       "survived\n",
       "0    549\n",
       "1    342\n",
       "Name: count, dtype: int64"
      ]
     },
     "execution_count": 15,
     "metadata": {},
     "output_type": "execute_result"
    }
   ],
   "source": [
    "# COl별 결측치 합계 \n",
    "titanic.isna().sum()\n",
    "\n",
    "\n",
    "#승객 등급 등장 빈도 (1,2,3 등석)\n",
    "print(titanic['pclass'].value_counts())\n",
    "\n",
    "# 성별 빈도 (남/녀)\n",
    "titanic['sex'].value_counts()\n",
    "# 생존 여부 빈도 (생존자/사망자)\n",
    "titanic['survived'].value_counts()"
   ]
  },
  {
   "cell_type": "code",
   "execution_count": 55,
   "id": "bb7bf384",
   "metadata": {},
   "outputs": [
    {
     "data": {
      "text/plain": [
       "pclass\n",
       "1    0.629630\n",
       "2    0.472826\n",
       "3    0.242363\n",
       "Name: survived, dtype: float64"
      ]
     },
     "execution_count": 55,
     "metadata": {},
     "output_type": "execute_result"
    }
   ],
   "source": [
    "# 성별에 따른 생존율\n",
    "titanic.groupby('sex')['survived'].mean()\n",
    "titanic.groupby('sex').agg({'survived':['mean']})\n",
    "\n",
    "#승객 등급에 따른 생존율 \n",
    "titanic.groupby('pclass')['survived'].mean()"
   ]
  },
  {
   "cell_type": "code",
   "execution_count": null,
   "id": "f8eda5e8",
   "metadata": {},
   "outputs": [
    {
     "name": "stdout",
     "output_type": "stream",
     "text": [
      "age_group\n",
      "아동     0.579710\n",
      "청소년    0.428571\n",
      "청년     0.382682\n",
      "중장년    0.400000\n",
      "노년     0.227273\n",
      "Name: survived, dtype: float64\n"
     ]
    },
    {
     "name": "stderr",
     "output_type": "stream",
     "text": [
      "C:\\Users\\Public\\Documents\\ESTsoft\\CreatorTemp\\ipykernel_33064\\1470512045.py:22: FutureWarning: The default of observed=False is deprecated and will be changed to True in a future version of pandas. Pass observed=False to retain current behavior or observed=True to adopt the future default and silence this warning.\n",
      "  print(titanic.groupby('age_group')['survived'].mean())\n",
      "C:\\Users\\Public\\Documents\\ESTsoft\\CreatorTemp\\ipykernel_33064\\1470512045.py:36: FutureWarning: The default of observed=False is deprecated and will be changed to True in a future version of pandas. Pass observed=False to retain current behavior or observed=True to adopt the future default and silence this warning.\n",
      "  result = titanic.groupby(['sex', 'age_group'])['survived'].mean()\n"
     ]
    },
    {
     "data": {
      "text/plain": [
       "<bound method DataFrame.pivot_table of      survived  pclass     sex   age  sibsp  parch     fare embarked   class  \\\n",
       "0           0       3    male  22.0      1      0   7.2500        S   Third   \n",
       "1           1       1  female  38.0      1      0  71.2833        C   First   \n",
       "2           1       3  female  26.0      0      0   7.9250        S   Third   \n",
       "3           1       1  female  35.0      1      0  53.1000        S   First   \n",
       "4           0       3    male  35.0      0      0   8.0500        S   Third   \n",
       "..        ...     ...     ...   ...    ...    ...      ...      ...     ...   \n",
       "886         0       2    male  27.0      0      0  13.0000        S  Second   \n",
       "887         1       1  female  19.0      0      0  30.0000        S   First   \n",
       "888         0       3  female   NaN      1      2  23.4500        S   Third   \n",
       "889         1       1    male  26.0      0      0  30.0000        C   First   \n",
       "890         0       3    male  32.0      0      0   7.7500        Q   Third   \n",
       "\n",
       "       who  adult_male deck  embark_town alive  alone age_group  \n",
       "0      man        True  NaN  Southampton    no  False        청년  \n",
       "1    woman       False    C    Cherbourg   yes  False       중장년  \n",
       "2    woman       False  NaN  Southampton   yes   True        청년  \n",
       "3    woman       False    C  Southampton   yes  False        청년  \n",
       "4      man        True  NaN  Southampton    no   True        청년  \n",
       "..     ...         ...  ...          ...   ...    ...       ...  \n",
       "886    man        True  NaN  Southampton    no   True        청년  \n",
       "887  woman       False    B  Southampton   yes   True        청년  \n",
       "888  woman       False  NaN  Southampton    no  False       NaN  \n",
       "889    man        True    C    Cherbourg   yes   True        청년  \n",
       "890    man        True  NaN   Queenstown    no   True        청년  \n",
       "\n",
       "[891 rows x 16 columns]>"
      ]
     },
     "execution_count": 36,
     "metadata": {},
     "output_type": "execute_result"
    }
   ],
   "source": [
    "### 성별& 승객 등급에 따른 생존\n",
    "titanic.groupby(['sex','pclass'])['survived'].mean()\n",
    "#피벗테이블\n",
    "titanic.pivot_table(\n",
    "    values='survived',\n",
    "    index='sex',\n",
    "    columns='pclass',\n",
    "    aggfunc='mean'\n",
    ")\n",
    "\n",
    "\n",
    "# 나이 그룹별 생존율 \n",
    "titanic['age_group'] = pd.cut(\n",
    "    titanic['age'],\n",
    "    bins=[0,12,18,35,60,100], #초과~이하\n",
    "    labels=['아동','청소년','청년','중장년','노년']\n",
    "\n",
    ")\n",
    "titanic.head()\n",
    "\n",
    "#카테고리가 있는데, 해당되는 내용이 없을때 표시한다 안한다. observed 옵션 \n",
    "print(titanic.groupby('age_group')['survived'].mean())\n",
    "\n",
    "# 성별 + 나이그룹으로 생존율 확인 \n",
    "\n",
    "import pandas as pd\n",
    "\n",
    "# 나이 그룹화 (bins와 labels를 이용해 구간 생성)\n",
    "titanic['age_group'] = pd.cut(\n",
    "    titanic['age'],\n",
    "    bins=[0, 12, 18, 35, 60, 100],  # 구간 경계\n",
    "    labels=['아동', '청소년', '청년', '중장년', '노년']\n",
    ")\n",
    "\n",
    "# 성별, 나이 그룹별 생존율 계산\n",
    "result = titanic.groupby(['sex', 'age_group'])['survived'].mean()\n",
    "\n",
    "titanic.pivot_table\n"
   ]
  },
  {
   "cell_type": "code",
   "execution_count": 38,
   "id": "7e271ba7",
   "metadata": {},
   "outputs": [
    {
     "name": "stdout",
     "output_type": "stream",
     "text": [
      "age            177\n",
      "embarked         2\n",
      "deck           688\n",
      "embark_town      2\n",
      "dtype: int64\n",
      "age            19.865320\n",
      "embarked        0.224467\n",
      "deck           77.216611\n",
      "embark_town     0.224467\n",
      "dtype: float64\n"
     ]
    }
   ],
   "source": [
    "import seaborn as sns\n",
    "\n",
    "# 데이터 불러오기 (문자열 따옴표 누락 수정)\n",
    "titanic = sns.load_dataset('titanic')\n",
    "\n",
    "# 결측치 개수 확인\n",
    "missing = titanic.isna().sum()\n",
    "\n",
    "# 결측치가 있는 컬럼만 필터링\n",
    "print(missing[missing > 0])\n",
    "\n",
    "# 결측치 비율(%) 계산\n",
    "missing_p = titanic.isna().mean() * 100\n",
    "\n",
    "# 결측치 비율이 있는 컬럼만 출력\n",
    "print(missing_p[missing_p > 0])\n"
   ]
  },
  {
   "cell_type": "code",
   "execution_count": 53,
   "id": "9e228321",
   "metadata": {},
   "outputs": [
    {
     "data": {
      "text/html": [
       "<div>\n",
       "<style scoped>\n",
       "    .dataframe tbody tr th:only-of-type {\n",
       "        vertical-align: middle;\n",
       "    }\n",
       "\n",
       "    .dataframe tbody tr th {\n",
       "        vertical-align: top;\n",
       "    }\n",
       "\n",
       "    .dataframe thead th {\n",
       "        text-align: right;\n",
       "    }\n",
       "</style>\n",
       "<table border=\"1\" class=\"dataframe\">\n",
       "  <thead>\n",
       "    <tr style=\"text-align: right;\">\n",
       "      <th></th>\n",
       "      <th>survived</th>\n",
       "      <th>pclass</th>\n",
       "      <th>sex</th>\n",
       "      <th>age</th>\n",
       "      <th>sibsp</th>\n",
       "      <th>parch</th>\n",
       "      <th>fare</th>\n",
       "      <th>embarked</th>\n",
       "      <th>class</th>\n",
       "      <th>who</th>\n",
       "      <th>adult_male</th>\n",
       "      <th>deck</th>\n",
       "      <th>embark_town</th>\n",
       "      <th>alive</th>\n",
       "      <th>alone</th>\n",
       "    </tr>\n",
       "  </thead>\n",
       "  <tbody>\n",
       "  </tbody>\n",
       "</table>\n",
       "</div>"
      ],
      "text/plain": [
       "Empty DataFrame\n",
       "Columns: [survived, pclass, sex, age, sibsp, parch, fare, embarked, class, who, adult_male, deck, embark_town, alive, alone]\n",
       "Index: []"
      ]
     },
     "execution_count": 53,
     "metadata": {},
     "output_type": "execute_result"
    }
   ],
   "source": [
    "# 결측치 채우기\n",
    "# age: 중요한 정보 : 평균/중앙값 대체\n",
    "# embarked: 가장 많은 사람들이 탄 곳으로 대체\n",
    "# deck: 추측 불가능(의믹 없음) -> 삭제\n",
    "\n",
    "# 필요하다면, 카피떠서 진행\n",
    "titanic_processed = titanic.copy()\n",
    "\n",
    "# 비어있던 행 마스킹\n",
    "age_mask =titanic['age'].isna()\n",
    "\n",
    "# 나이 결측치 채우기 (남녀상관없이 전체평균으로 채움)\n",
    "mean_age = titanic['age'].mean()\n",
    "titanic_processed['age'] = titanic['age'].fillna(mean_age)\n",
    "\n",
    "# 결측치 있는지 재확인\n",
    "titanic_processed.isna().sum()\n",
    "\n",
    "# 평균으로 채워진 값들만 확인\n",
    "titanic_processed.loc[age_mask]\n"
   ]
  },
  {
   "cell_type": "code",
   "execution_count": null,
   "id": "b84261ec",
   "metadata": {},
   "outputs": [
    {
     "name": "stdout",
     "output_type": "stream",
     "text": [
      "sex     pclass\n",
      "female  1         34.141405\n",
      "        2         28.748661\n",
      "        3         24.068493\n",
      "male    1         39.287717\n",
      "        2         30.653908\n",
      "        3         27.372153\n",
      "Name: age, dtype: float64\n"
     ]
    },
    {
     "data": {
      "text/html": [
       "<div>\n",
       "<style scoped>\n",
       "    .dataframe tbody tr th:only-of-type {\n",
       "        vertical-align: middle;\n",
       "    }\n",
       "\n",
       "    .dataframe tbody tr th {\n",
       "        vertical-align: top;\n",
       "    }\n",
       "\n",
       "    .dataframe thead th {\n",
       "        text-align: right;\n",
       "    }\n",
       "</style>\n",
       "<table border=\"1\" class=\"dataframe\">\n",
       "  <thead>\n",
       "    <tr style=\"text-align: right;\">\n",
       "      <th></th>\n",
       "      <th>survived</th>\n",
       "      <th>pclass</th>\n",
       "      <th>sex</th>\n",
       "      <th>age</th>\n",
       "      <th>sibsp</th>\n",
       "      <th>parch</th>\n",
       "      <th>fare</th>\n",
       "      <th>embarked</th>\n",
       "      <th>class</th>\n",
       "      <th>who</th>\n",
       "      <th>adult_male</th>\n",
       "      <th>deck</th>\n",
       "      <th>embark_town</th>\n",
       "      <th>alive</th>\n",
       "      <th>alone</th>\n",
       "    </tr>\n",
       "  </thead>\n",
       "  <tbody>\n",
       "  </tbody>\n",
       "</table>\n",
       "</div>"
      ],
      "text/plain": [
       "Empty DataFrame\n",
       "Columns: [survived, pclass, sex, age, sibsp, parch, fare, embarked, class, who, adult_male, deck, embark_town, alive, alone]\n",
       "Index: []"
      ]
     },
     "execution_count": 54,
     "metadata": {},
     "output_type": "execute_result"
    }
   ],
   "source": [
    "# 전체평균으로 대체하는게 옳을까..?\n",
    "# 성별/객실별로 평균을 추정하는건?\n",
    "\n",
    "# 모든 사람들을 성별/객실 그룹의 평균 나이로 바꾼 Series\n",
    "print(titanic.groupby(['sex','pclass'])['age'].mean())\n",
    "mean_ages = titanic.groupby(['sex', 'pclass'])['age'].transform('mean')\n",
    "\n",
    "# titanic 의 age col 중 빈 값만, mean_ages로 채움.\n",
    "titanic_processed['age'] = titanic['age'].fillna(mean_ages)\n",
    "\n",
    "# 원래 비어있던 애들만 확인 \n",
    "titanic_processed.loc[ titanic['age'].isna() ]\n",
    "\n"
   ]
  },
  {
   "cell_type": "code",
   "execution_count": 58,
   "id": "3962946d",
   "metadata": {},
   "outputs": [
    {
     "data": {
      "text/plain": [
       "np.int64(0)"
      ]
     },
     "execution_count": 58,
     "metadata": {},
     "output_type": "execute_result"
    }
   ],
   "source": [
    "# embarked (탑승 도시) -> 최빈값(가장 많이 탄 곳)\n",
    "# 비어있는 항구 개수\n",
    "titanic['embarked'].isna().sum()\n",
    "\n",
    "#최빈값 (Series - )\n",
    "mode_embarked= titanic['embarked'].mode()[0] #Series 에서 1개 뽑기\n",
    "\n",
    "titanic_processed['embarked'] = titanic['embarked'].fillna(mode_embarked)\n",
    "\n",
    "titanic_processed['embarked'].isna().sum()\n",
    "\n"
   ]
  },
  {
   "cell_type": "code",
   "execution_count": 63,
   "id": "53cb1dc5",
   "metadata": {},
   "outputs": [
    {
     "name": "stdout",
     "output_type": "stream",
     "text": [
      "<class 'pandas.core.frame.DataFrame'>\n",
      "RangeIndex: 891 entries, 0 to 890\n",
      "Data columns (total 14 columns):\n",
      " #   Column       Non-Null Count  Dtype   \n",
      "---  ------       --------------  -----   \n",
      " 0   survived     891 non-null    int64   \n",
      " 1   pclass       891 non-null    int64   \n",
      " 2   sex          891 non-null    object  \n",
      " 3   age          891 non-null    float64 \n",
      " 4   sibsp        891 non-null    int64   \n",
      " 5   parch        891 non-null    int64   \n",
      " 6   fare         891 non-null    float64 \n",
      " 7   embarked     891 non-null    object  \n",
      " 8   class        891 non-null    category\n",
      " 9   who          891 non-null    object  \n",
      " 10  adult_male   891 non-null    bool    \n",
      " 11  embark_town  889 non-null    object  \n",
      " 12  alive        891 non-null    object  \n",
      " 13  alone        891 non-null    bool    \n",
      "dtypes: bool(2), category(1), float64(2), int64(4), object(5)\n",
      "memory usage: 79.4+ KB\n"
     ]
    }
   ],
   "source": [
    "# deck 은 77%가 비어있음 -> 삭제\n",
    "titanic['deck'].isna().mean()*100 # 빈값 비율\n",
    "\n",
    "# 'deck' 컬럼은 삭제\n",
    "titanic_processed.drop('deck',axis=1,inplace=True)\n",
    "\n",
    "titanic_processed.info()"
   ]
  }
 ],
 "metadata": {
  "kernelspec": {
   "display_name": "Python 3",
   "language": "python",
   "name": "python3"
  },
  "language_info": {
   "codemirror_mode": {
    "name": "ipython",
    "version": 3
   },
   "file_extension": ".py",
   "mimetype": "text/x-python",
   "name": "python",
   "nbconvert_exporter": "python",
   "pygments_lexer": "ipython3",
   "version": "3.13.2"
  }
 },
 "nbformat": 4,
 "nbformat_minor": 5
}
