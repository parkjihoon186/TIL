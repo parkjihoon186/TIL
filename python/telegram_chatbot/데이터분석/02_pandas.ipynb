{
 "cells": [
  {
   "cell_type": "code",
   "execution_count": 9,
   "id": "5c5d3644",
   "metadata": {},
   "outputs": [
    {
     "ename": "SyntaxError",
     "evalue": "invalid syntax (4210073168.py, line 5)",
     "output_type": "error",
     "traceback": [
      "  \u001b[36mCell\u001b[39m\u001b[36m \u001b[39m\u001b[32mIn[9]\u001b[39m\u001b[32m, line 5\u001b[39m\n\u001b[31m    \u001b[39m\u001b[31m-표(테이블) 데이터를 다루는데 특화\u001b[39m\n            ^\n\u001b[31mSyntaxError\u001b[39m\u001b[31m:\u001b[39m invalid syntax\n"
     ]
    }
   ],
   "source": [
    "#pandas\n",
    "'02_pandas.ipynb'\n",
    "\n",
    "##특징\n",
    "-표(테이블) 데이터를 다루는데 특화 \n",
    "-다양한 외부 소스에서 데이터 가져오기(csv,excel,sql,db)\n",
    "-데이터 정제,변환,분석에 필요한 기능 다수\n",
    "-결측치 처리,4 그룹화 , 병합작업에 효율\n"
   ]
  },
  {
   "cell_type": "code",
   "execution_count": null,
   "id": "ab834a26",
   "metadata": {},
   "outputs": [
    {
     "name": "stdout",
     "output_type": "stream",
     "text": [
      "Collecting pandas\n",
      "  Downloading pandas-2.3.1-cp313-cp313-win_amd64.whl.metadata (19 kB)\n",
      "Requirement already satisfied: numpy>=1.26.0 in c:\\users\\user\\appdata\\local\\programs\\python\\python313\\lib\\site-packages (from pandas) (2.3.2)\n",
      "Requirement already satisfied: python-dateutil>=2.8.2 in c:\\users\\user\\appdata\\local\\programs\\python\\python313\\lib\\site-packages (from pandas) (2.9.0.post0)\n",
      "Collecting pytz>=2020.1 (from pandas)\n",
      "  Downloading pytz-2025.2-py2.py3-none-any.whl.metadata (22 kB)\n",
      "Collecting tzdata>=2022.7 (from pandas)\n",
      "  Downloading tzdata-2025.2-py2.py3-none-any.whl.metadata (1.4 kB)\n",
      "Requirement already satisfied: six>=1.5 in c:\\users\\user\\appdata\\local\\programs\\python\\python313\\lib\\site-packages (from python-dateutil>=2.8.2->pandas) (1.17.0)\n",
      "Downloading pandas-2.3.1-cp313-cp313-win_amd64.whl (11.0 MB)\n",
      "   ---------------------------------------- 0.0/11.0 MB ? eta -:--:--\n",
      "   ----------------------- ---------------- 6.6/11.0 MB 30.0 MB/s eta 0:00:01\n",
      "   ---------------------------------------  10.7/11.0 MB 27.7 MB/s eta 0:00:01\n",
      "   ---------------------------------------- 11.0/11.0 MB 16.5 MB/s eta 0:00:00\n",
      "Downloading pytz-2025.2-py2.py3-none-any.whl (509 kB)\n",
      "Downloading tzdata-2025.2-py2.py3-none-any.whl (347 kB)\n",
      "Installing collected packages: pytz, tzdata, pandas\n",
      "Successfully installed pandas-2.3.1 pytz-2025.2 tzdata-2025.2\n",
      "Note: you may need to restart the kernel to use updated packages.\n"
     ]
    },
    {
     "name": "stderr",
     "output_type": "stream",
     "text": [
      "\n",
      "[notice] A new release of pip is available: 24.3.1 -> 25.1.1\n",
      "[notice] To update, run: python.exe -m pip install --upgrade pip\n"
     ]
    }
   ],
   "source": [
    "%pip install pandas"
   ]
  },
  {
   "cell_type": "code",
   "execution_count": null,
   "id": "e6908b10",
   "metadata": {},
   "outputs": [],
   "source": [
    "import numpy as np\n",
    "import pandas as pd\n",
    "\n",
    "df = pd.DataFrame(np_array, columns=['A', 'B', 'C'])\n"
   ]
  },
  {
   "cell_type": "code",
   "execution_count": null,
   "id": "cdad8910",
   "metadata": {},
   "outputs": [],
   "source": [
    "S1= pd.series([1,3,5,7,9])\n",
    "print(s1)\n",
    "\n",
    "s2= pd.series([1,3,5,7,9], index=[a,b,c,d,e])\n",
    "\n",
    "d= ['a':"
   ]
  },
  {
   "cell_type": "markdown",
   "id": "f86f210d",
   "metadata": {},
   "source": [
    "## Dataframe\n",
    "-2차원(매트릭스)with Label\n",
    "### \n",
    "행(row)과 열(col)모두에 Label 설정."
   ]
  },
  {
   "cell_type": "code",
   "execution_count": null,
   "id": "e10148f2",
   "metadata": {},
   "outputs": [
    {
     "name": "stdout",
     "output_type": "stream",
     "text": [
      "딕셔너리로부터 DataFrame 생성:\n",
      "    이름  나이 성별  점수\n",
      "0  김철수  25  남  85\n",
      "1  이영희  28  여  92\n",
      "2  박민수  22  남  78\n",
      "3  정지영  30  여  90\n",
      "\n",
      "리스트로부터 DataFrame 생성:\n",
      "    이름  나이 성별  점수\n",
      "0  김철수  25  남  85\n",
      "1  이영희  28  여  92\n",
      "2  박민수  22  남  78\n",
      "3  정지영  30  여  90\n"
     ]
    }
   ],
   "source": [
    "# 딕셔너리로부터 DataFrame 생성\n",
    "data = {\n",
    "    '이름': ['김철수', '이영희', '박민수', '정지영'],\n",
    "    '나이': [25, 28, 22, 30],\n",
    "    '성별': ['남', '여', '남', '여'],\n",
    "    '점수': [85, 92, 78, 90]\n",
    "}\n",
    "df1 = pd.DataFrame(data)\n",
    "print(\"딕셔너리로부터 DataFrame 생성:\")\n",
    "print(df1)\n",
    "\n",
    "# 리스트의 리스트로부터 DataFrame 생성\n",
    "data_list = [\n",
    "    ['김철수', 25, '남', 85],\n",
    "    ['이영희', 28, '여', 92],\n",
    "    ['박민수', 22, '남', 78],\n",
    "    ['정지영', 30, '여', 90]\n",
    "]\n",
    "df2 = pd.DataFrame(data_list, columns=['이름', '나이', '성별', '점수'])\n",
    "print(\"\\n리스트로부터 DataFrame 생성:\")\n",
    "print(df2)"
   ]
  },
  {
   "cell_type": "code",
   "execution_count": null,
   "id": "340b41bc",
   "metadata": {},
   "outputs": [
    {
     "name": "stdout",
     "output_type": "stream",
     "text": [
      "Index(['이름', '나이', '성별', '점수'], dtype='object')\n",
      "RangeIndex(start=0, stop=4, step=1)\n",
      "[['김철수' 25 '남' 85]\n",
      " ['이영희' 28 '여' 92]\n",
      " ['박민수' 22 '남' 78]\n",
      " ['정지영' 30 '여' 90]]\n",
      "16\n",
      "이름    object\n",
      "나이     int64\n",
      "성별    object\n",
      "점수     int64\n",
      "dtype: object\n"
     ]
    }
   ],
   "source": [
    "# 컬럼\n",
    "print(df1.columns)\n",
    "# 인덱스(Row 정보)\n",
    "print(df1.index)\n",
    "#값\n",
    "print(df1.values)\n",
    "#데이터 타입\n",
    "print(df1.size)\n",
    "#크기\n",
    "print(df1.dtypes)\n",
    "#모양\n"
   ]
  },
  {
   "cell_type": "code",
   "execution_count": null,
   "id": "b9e130d4",
   "metadata": {},
   "outputs": [
    {
     "name": "stdout",
     "output_type": "stream",
     "text": [
      "     나이 성별  점수\n",
      "이름            \n",
      "김철수  25  남  85\n",
      "이영희  28  여  92\n",
      "박민수  22  남  78\n",
      "정지영  30  여  90\n",
      "        나이  점수\n",
      "성별 이름         \n",
      "남  김철수  25  85\n",
      "여  이영희  28  92\n",
      "남  박민수  22  78\n",
      "여  정지영  30  90\n",
      "     나이 성별  점수\n",
      "학생명           \n",
      "김철수  25  남  85\n",
      "이영희  28  여  92\n",
      "박민수  22  남  78\n",
      "정지영  30  여  90\n"
     ]
    }
   ],
   "source": [
    "#   Index(데이터고유 id)는 pandas 의 핵심 기능\n",
    "\n",
    "# 인덱스 재설정\n",
    "df_reset=df1.reset_index()\n",
    "\n",
    "#인덱스 설정 \n",
    "df_set=df1.set_index('이름')\n",
    "print(df_set)\n",
    "#다중 인덱스 설정\n",
    "df_multi= df1.set_index(['성별','이름'])\n",
    "print(df_multi)\n",
    "\n",
    "#인덱스 이름 변경\n",
    "df_renamed= df_set.rename_axis('학생명')\n",
    "print(df_renamed)"
   ]
  },
  {
   "cell_type": "markdown",
   "id": "90ed4c82",
   "metadata": {},
   "source": [
    "## 데이터 접근및 선택\n",
    "\n",
    "#열 선택과 인덱스 접근"
   ]
  },
  {
   "cell_type": "code",
   "execution_count": null,
   "id": "36d92382",
   "metadata": {},
   "outputs": [
    {
     "name": "stdout",
     "output_type": "stream",
     "text": [
      "0    김철수\n",
      "1    이영희\n",
      "2    박민수\n",
      "3    정지영\n",
      "Name: 이름, dtype: object\n",
      "    이름  점수\n",
      "0  김철수  85\n",
      "1  이영희  92\n",
      "2  박민수  78\n",
      "3  정지영  90\n",
      "0    25\n",
      "1    28\n",
      "2    22\n",
      "3    30\n",
      "Name: 나이, dtype: int64\n"
     ]
    }
   ],
   "source": [
    "# DF 에서 단일 열(col)선택\n",
    "\n",
    "name_col=df1['이름']\n",
    "print(name_col)\n",
    "\n",
    "       \n",
    "#다중열 선택\n",
    "\n",
    "\n",
    "subset=df1[['이름','점수']]\n",
    "\n",
    "print(subset)#Dataframe 이 나온다. \n",
    "\n",
    "# key 접근이 아니라 속성(주어.속성) 방식 접근 - 공백/특수문자 없을경우\n",
    "print(df1.나이)"
   ]
  },
  {
   "cell_type": "markdown",
   "id": "15f225e1",
   "metadata": {},
   "source": [
    "## loc'와 iloc 메서드\n",
    "\n",
    "#loc : 레이블 기반 인덱싱(인덱스 이름사용)\n",
    "#iloc: 위치기반 인덱싱(정수위치 사용)"
   ]
  },
  {
   "cell_type": "code",
   "execution_count": null,
   "id": "ca2f4968",
   "metadata": {},
   "outputs": [
    {
     "name": "stdout",
     "output_type": "stream",
     "text": [
      "    이름  나이 성별  점수\n",
      "0  김철수  25  남  85\n",
      "1  이영희  28  여  92\n",
      "2  박민수  22  남  78\n",
      "3  정지영  30  여  90\n"
     ]
    }
   ],
   "source": [
    "print(df1)\n",
    "df3= df1.set_index('이름')\n",
    "\n",
    "#단일 행 선택\n",
    "row= df3.loc[['김철수','이영희']]"
   ]
  },
  {
   "cell_type": "code",
   "execution_count": null,
   "id": "87df91bf",
   "metadata": {},
   "outputs": [
    {
     "name": "stdout",
     "output_type": "stream",
     "text": [
      "    이름  나이 성별  점수\n",
      "0  김철수  25  남  85\n",
      "1  이영희  28  여  92\n",
      "2  박민수  22  남  78\n",
      "3  정지영  30  여  90\n",
      "이름    김철수\n",
      "나이     25\n",
      "성별      남\n",
      "점수     85\n",
      "Name: 0, dtype: object\n",
      "    이름  나이 성별  점수\n",
      "1  이영희  28  여  92\n",
      "2  박민수  22  남  78\n"
     ]
    }
   ],
   "source": [
    "#iloc 예제\n",
    "\n",
    "print(df1) # index 설정 없음\n",
    "\n",
    "# 단일행 -> 이거 아님 df1[0]\n",
    "first_row=df1.iloc[0]\n",
    "print(first_row)\n",
    "\n",
    "#다중행 \n",
    "rows = df1.iloc[1:3] #df1[1:3] 와 같으나,iloc 사용\n",
    "print(rows)\n",
    "\n",
    "#행 + 열 선택 (숫자 idx)\n",
    "\n"
   ]
  },
  {
   "cell_type": "markdown",
   "id": "bb04771c",
   "metadata": {},
   "source": [
    "### 불리언 인덱싱"
   ]
  },
  {
   "cell_type": "code",
   "execution_count": null,
   "id": "ddff058d",
   "metadata": {},
   "outputs": [
    {
     "name": "stdout",
     "output_type": "stream",
     "text": [
      "    이름  나이 성별  점수\n",
      "0  김철수  25  남  85\n",
      "1  이영희  28  여  92\n",
      "2  박민수  22  남  78\n",
      "3  정지영  30  여  90\n",
      "\n",
      "0    False\n",
      "1     True\n",
      "2    False\n",
      "3     True\n",
      "Name: 나이, dtype: bool\n",
      "\n",
      "    이름  나이 성별  점수\n",
      "1  이영희  28  여  92\n",
      "3  정지영  30  여  90\n",
      "\n",
      "    이름  나이 성별  점수\n",
      "1  이영희  28  여  92\n",
      "3  정지영  30  여  90\n",
      "\n",
      "    이름  나이 성별  점수\n",
      "0  김철수  25  남  85\n",
      "2  박민수  22  남  78\n",
      "    이름  나이 성별  점수\n",
      "0  김철수  25  남  85\n",
      "3  정지영  30  여  90\n"
     ]
    }
   ],
   "source": [
    "print(df1)\n",
    "print()\n",
    "# 나이 25 초과 마스킹\n",
    "mask = df1['나이'] > 25  # T, F로 이루어진 Series\n",
    "print(mask)\n",
    "print()\n",
    "# 필터링\n",
    "filtered = df1[mask]\n",
    "print(filtered)\n",
    "print()\n",
    "\n",
    "# 점수 80이상, 성별 '여'\n",
    "mask = (df1['점수'] >= 80) & (df1['성별'] == '여')\n",
    "print(df1[mask])\n",
    "print()\n",
    "# 남성이거나, 점수 95점 이상\n",
    "mask = (df1['점수'] >= 95) | (df1['성별'] == '남')\n",
    "print(df1[mask])\n",
    "\n",
    "# isin 메서드로 필터링\n",
    "names = ['김철수', '정지영']\n",
    "mask = df1['이름'].isin(names)\n",
    "print(df1[mask])\n",
    "\n",
    "\n"
   ]
  },
  {
   "cell_type": "markdown",
   "id": "fed93269",
   "metadata": {},
   "source": [
    "## 기술통계"
   ]
  },
  {
   "cell_type": "code",
   "execution_count": null,
   "id": "bdb05acc",
   "metadata": {},
   "outputs": [],
   "source": [
    "print(df1.describe())\n",
    "print(df1['점수'].describe())\n",
    "\n",
    "# 개별 통계함수\n",
    "print(df1['점수'].mean())\n",
    "print(df1['점수'].median())\n",
    "print(df1['점수'].std())\n",
    "print(df1['점수'].min())\n",
    "print(df1['점수'].max())\n",
    "print(df1['점수'].sum()) \n",
    "\n",
    "# 범주형 col 빈도 계산\n",
    "print(df1['성별'].value_contests())\n"
   ]
  },
  {
   "cell_type": "markdown",
   "id": "e24340f5",
   "metadata": {},
   "source": [
    "## 데이터 요약 및 그룹화 "
   ]
  },
  {
   "cell_type": "code",
   "execution_count": null,
   "id": "63e5aacf",
   "metadata": {},
   "outputs": [
    {
     "data": {
      "text/html": [
       "<div>\n",
       "<style scoped>\n",
       "    .dataframe tbody tr th:only-of-type {\n",
       "        vertical-align: middle;\n",
       "    }\n",
       "\n",
       "    .dataframe tbody tr th {\n",
       "        vertical-align: top;\n",
       "    }\n",
       "\n",
       "    .dataframe thead tr th {\n",
       "        text-align: left;\n",
       "    }\n",
       "\n",
       "    .dataframe thead tr:last-of-type th {\n",
       "        text-align: right;\n",
       "    }\n",
       "</style>\n",
       "<table border=\"1\" class=\"dataframe\">\n",
       "  <thead>\n",
       "    <tr>\n",
       "      <th></th>\n",
       "      <th colspan=\"3\" halign=\"left\">나이</th>\n",
       "      <th colspan=\"4\" halign=\"left\">점수</th>\n",
       "    </tr>\n",
       "    <tr>\n",
       "      <th></th>\n",
       "      <th>mean</th>\n",
       "      <th>min</th>\n",
       "      <th>max</th>\n",
       "      <th>mean</th>\n",
       "      <th>min</th>\n",
       "      <th>max</th>\n",
       "      <th>std</th>\n",
       "    </tr>\n",
       "    <tr>\n",
       "      <th>성별</th>\n",
       "      <th></th>\n",
       "      <th></th>\n",
       "      <th></th>\n",
       "      <th></th>\n",
       "      <th></th>\n",
       "      <th></th>\n",
       "      <th></th>\n",
       "    </tr>\n",
       "  </thead>\n",
       "  <tbody>\n",
       "    <tr>\n",
       "      <th>남</th>\n",
       "      <td>23.5</td>\n",
       "      <td>22</td>\n",
       "      <td>25</td>\n",
       "      <td>81.5</td>\n",
       "      <td>78</td>\n",
       "      <td>85</td>\n",
       "      <td>4.949747</td>\n",
       "    </tr>\n",
       "    <tr>\n",
       "      <th>여</th>\n",
       "      <td>29.0</td>\n",
       "      <td>28</td>\n",
       "      <td>30</td>\n",
       "      <td>91.0</td>\n",
       "      <td>90</td>\n",
       "      <td>92</td>\n",
       "      <td>1.414214</td>\n",
       "    </tr>\n",
       "  </tbody>\n",
       "</table>\n",
       "</div>"
      ],
      "text/plain": [
       "      나이            점수                  \n",
       "    mean min max  mean min max       std\n",
       "성별                                      \n",
       "남   23.5  22  25  81.5  78  85  4.949747\n",
       "여   29.0  28  30  91.0  90  92  1.414214"
      ]
     },
     "execution_count": 34,
     "metadata": {},
     "output_type": "execute_result"
    }
   ],
   "source": [
    "# df1 표에서 성별로 그루핑하고 , 점수의 평균집계\n",
    "gender_score=df1.groupby('성별')['점수'].mean()\n",
    "\n",
    "# 성별에 따른 여러 통계량\n",
    "df1.groupby('성별').agg({\n",
    "    '나이':['mean','min','max'],\n",
    "    '점수':['mean','min','max','std']\n",
    "})"
   ]
  },
  {
   "cell_type": "code",
   "execution_count": null,
   "id": "1f3206e8",
   "metadata": {},
   "outputs": [
    {
     "name": "stdout",
     "output_type": "stream",
     "text": [
      "Collecting matplotlib\n",
      "  Downloading matplotlib-3.10.3-cp313-cp313-win_amd64.whl.metadata (11 kB)\n",
      "Collecting contourpy>=1.0.1 (from matplotlib)\n",
      "  Downloading contourpy-1.3.3-cp313-cp313-win_amd64.whl.metadata (5.5 kB)\n",
      "Collecting cycler>=0.10 (from matplotlib)\n",
      "  Downloading cycler-0.12.1-py3-none-any.whl.metadata (3.8 kB)\n",
      "Collecting fonttools>=4.22.0 (from matplotlib)\n",
      "  Downloading fonttools-4.59.0-cp313-cp313-win_amd64.whl.metadata (110 kB)\n",
      "Collecting kiwisolver>=1.3.1 (from matplotlib)\n",
      "  Downloading kiwisolver-1.4.8-cp313-cp313-win_amd64.whl.metadata (6.3 kB)\n",
      "Requirement already satisfied: numpy>=1.23 in c:\\users\\user\\appdata\\local\\programs\\python\\python313\\lib\\site-packages (from matplotlib) (2.3.2)\n",
      "Requirement already satisfied: packaging>=20.0 in c:\\users\\user\\appdata\\local\\programs\\python\\python313\\lib\\site-packages (from matplotlib) (25.0)\n",
      "Collecting pillow>=8 (from matplotlib)\n",
      "  Downloading pillow-11.3.0-cp313-cp313-win_amd64.whl.metadata (9.2 kB)\n",
      "Collecting pyparsing>=2.3.1 (from matplotlib)\n",
      "  Downloading pyparsing-3.2.3-py3-none-any.whl.metadata (5.0 kB)\n",
      "Requirement already satisfied: python-dateutil>=2.7 in c:\\users\\user\\appdata\\local\\programs\\python\\python313\\lib\\site-packages (from matplotlib) (2.9.0.post0)\n",
      "Requirement already satisfied: six>=1.5 in c:\\users\\user\\appdata\\local\\programs\\python\\python313\\lib\\site-packages (from python-dateutil>=2.7->matplotlib) (1.17.0)\n",
      "Downloading matplotlib-3.10.3-cp313-cp313-win_amd64.whl (8.1 MB)\n",
      "   ---------------------------------------- 0.0/8.1 MB ? eta -:--:--\n",
      "   --------------------------- ------------ 5.5/8.1 MB 30.7 MB/s eta 0:00:01\n",
      "   ---------------------------------------- 8.1/8.1 MB 26.2 MB/s eta 0:00:00\n",
      "Downloading contourpy-1.3.3-cp313-cp313-win_amd64.whl (226 kB)\n",
      "Downloading cycler-0.12.1-py3-none-any.whl (8.3 kB)\n",
      "Downloading fonttools-4.59.0-cp313-cp313-win_amd64.whl (2.2 MB)\n",
      "   ---------------------------------------- 0.0/2.2 MB ? eta -:--:--\n",
      "   ---------------------------------------- 2.2/2.2 MB 26.8 MB/s eta 0:00:00\n",
      "Downloading kiwisolver-1.4.8-cp313-cp313-win_amd64.whl (71 kB)\n",
      "Downloading pillow-11.3.0-cp313-cp313-win_amd64.whl (7.0 MB)\n",
      "   ---------------------------------------- 0.0/7.0 MB ? eta -:--:--\n",
      "   --------------------------------- ------ 5.8/7.0 MB 29.8 MB/s eta 0:00:01\n",
      "   ---------------------------------------- 7.0/7.0 MB 23.0 MB/s eta 0:00:00\n",
      "Downloading pyparsing-3.2.3-py3-none-any.whl (111 kB)\n",
      "Installing collected packages: pyparsing, pillow, kiwisolver, fonttools, cycler, contourpy, matplotlib\n",
      "Successfully installed contourpy-1.3.3 cycler-0.12.1 fonttools-4.59.0 kiwisolver-1.4.8 matplotlib-3.10.3 pillow-11.3.0 pyparsing-3.2.3\n",
      "Note: you may need to restart the kernel to use updated packages.\n"
     ]
    },
    {
     "name": "stderr",
     "output_type": "stream",
     "text": [
      "\n",
      "[notice] A new release of pip is available: 24.3.1 -> 25.1.1\n",
      "[notice] To update, run: python.exe -m pip install --upgrade pip\n"
     ]
    }
   ],
   "source": [
    "%pip install matplotlib"
   ]
  },
  {
   "cell_type": "code",
   "execution_count": null,
   "id": "d47a5918",
   "metadata": {},
   "outputs": [],
   "source": [
    "import warnings\n",
    "warnings.filterwarnings('ignore', category=UserWarning)"
   ]
  },
  {
   "cell_type": "code",
   "execution_count": null,
   "id": "53738f67",
   "metadata": {},
   "outputs": [
    {
     "data": {
      "text/plain": [
       "<Axes: >"
      ]
     },
     "execution_count": 40,
     "metadata": {},
     "output_type": "execute_result"
    },
    {
     "data": {
      "image/png": "[encoded data removed]",
      "text/plain": [
       "<Figure size 640x480 with 1 Axes>"
      ]
     },
     "metadata": {},
     "output_type": "display_data"
    }
   ],
   "source": [
    "import matplotlib.pyplot as plt\n",
    "plt.rcParams['font.family'] = 'Malgun Gothic'\n",
    "plt.rcParams['axes.unicode_minus'] = False\n",
    "#막대그래프\n",
    "df1.plot(kind='bar')"
   ]
  },
  {
   "cell_type": "code",
   "execution_count": null,
   "id": "019dd5be",
   "metadata": {},
   "outputs": [
    {
     "data": {
      "image/png": "[encoded data removed]",
      "text/plain": [
       "<Figure size 640x480 with 1 Axes>"
      ]
     },
     "metadata": {},
     "output_type": "display_data"
    }
   ],
   "source": [
    "df1.plot(kind='bar',x='이름',y='점수')\n",
    "plt.title('학생별 점수')\n",
    "plt.xlabel('성별')\n",
    "plt.ylabel('점수')\n",
    "plt.show()"
   ]
  },
  {
   "cell_type": "code",
   "execution_count": null,
   "id": "5c1135fc",
   "metadata": {},
   "outputs": [
    {
     "data": {
      "image/png": "[encoded data removed]",
      "text/plain": [
       "<Figure size 640x480 with 1 Axes>"
      ]
     },
     "metadata": {},
     "output_type": "display_data"
    }
   ],
   "source": [
    "gender_score.plot(kind='bar')\n",
    "plt.title('성별평균점수')\n",
    "plt.xlabel('성별')\n",
    "plt.ylabel('평균점수')\n",
    "plt.show()"
   ]
  },
  {
   "cell_type": "code",
   "execution_count": null,
   "id": "0e9d775f",
   "metadata": {},
   "outputs": [],
   "source": [
    "#"
   ]
  },
  {
   "cell_type": "code",
   "execution_count": null,
   "id": "7df4058a",
   "metadata": {},
   "outputs": [
    {
     "name": "stdout",
     "output_type": "stream",
     "text": [
      "온라인 쇼핑몰 고객 데이터:\n",
      "   고객ID   이름  나이 성별   구매금액  구매횟수  회원등급\n",
      "0  1001  김민수  25  남  50000     3    실버\n",
      "1  1002  이지영  32  여  75000     5    골드\n",
      "2  1003  박철호  28  남  32000     2   브론즈\n",
      "3  1004  정수민  35  여  98000     7  플래티넘\n",
      "4  1005  최영희  29  여  67000     4    골드\n",
      "5  1006  강도현  31  남  84000     6    골드\n",
      "6  1007  윤서연  26  여  41000     2    실버\n",
      "7  1008  임태혁  33  남  72000     5    골드\n",
      "8  1009  송지원  27  여  58000     3    실버\n",
      "9  1010  한미래  30  여  89000     6  플래티넘\n"
     ]
    }
   ],
   "source": [
    "import pandas as pd\n",
    "import numpy as np\n",
    "import matplotlib.pyplot as plt\n",
    "\n",
    "# 온라인 쇼핑몰 고객 데이터 (가상)\n",
    "customer_data = {\n",
    "    '고객ID': [1001, 1002, 1003, 1004, 1005, 1006, 1007, 1008, 1009, 1010],\n",
    "    '이름': ['김민수', '이지영', '박철호', '정수민', '최영희', '강도현', '윤서연', '임태혁', '송지원', '한미래'],\n",
    "    '나이': [25, 32, 28, 35, 29, 31, 26, 33, 27, 30],\n",
    "    '성별': ['남', '여', '남', '여', '여', '남', '여', '남', '여', '여'],\n",
    "    '구매금액': [50000, 75000, 32000, 98000, 67000, 84000, 41000, 72000, 58000, 89000],\n",
    "    '구매횟수': [3, 5, 2, 7, 4, 6, 2, 5, 3, 6],\n",
    "    '회원등급': ['실버', '골드', '브론즈', '플래티넘', '골드', '골드', '실버', '골드', '실버', '플래티넘']\n",
    "}\n",
    "\n",
    "df = pd.DataFrame(customer_data)\n",
    "print(\"온라인 쇼핑몰 고객 데이터:\")\n",
    "print(df)"
   ]
  },
  {
   "cell_type": "code",
   "execution_count": null,
   "id": "2410d509",
   "metadata": {},
   "outputs": [
    {
     "name": "stdout",
     "output_type": "stream",
     "text": [
      "성별\n",
      "남    35.735736\n",
      "여    64.264264\n",
      "Name: 구매금액, dtype: float64\n"
     ]
    }
   ],
   "source": [
    "import pandas as pd\n",
    "\n",
    "# 데이터프레임 예시 (복사해서 사용 가능)\n",
    "data = {\n",
    "    '고객ID': [1001,1002,1003,1004,1005,1006,1007,1008,1009,1010],\n",
    "    '이름': ['김민수','이지영','박철호','정수민','최영희','강도현','윤서연','임태혁','송지원','한미래'],\n",
    "    '나이': [25,32,28,35,29,31,26,33,27,30],\n",
    "    '성별': ['남','여','남','여','여','남','여','남','여','여'],\n",
    "    '구매금액': [50000,75000,32000,98000,67000,84000,41000,72000,58000,89000],\n",
    "    '구매횟수': [3,5,2,7,4,6,2,5,3,6],\n",
    "    '회원등급': ['실버','골드','브론즈','플래티넘','골드','골드','실버','골드','실버','플래티넘']\n",
    "}\n",
    "\n",
    "df = pd.DataFrame(data)\n",
    "\n",
    "# 1. 성별별 총 구매금액\n",
    "gender_purchase = df.groupby('성별')['구매금액'].sum()\n",
    "\n",
    "# 2. 전체 총 구매금액\n",
    "total_purchase = df['구매금액'].sum()\n",
    "\n",
    "# 3. 성별별 구매비중 계산 (%)\n",
    "purchase_ratio = (gender_purchase / total_purchase) * 100\n",
    "\n",
    "print(purchase_ratio)\n"
   ]
  },
  {
   "cell_type": "code",
   "execution_count": null,
   "id": "5da8f861",
   "metadata": {},
   "outputs": [],
   "source": []
  },
  {
   "cell_type": "code",
   "execution_count": null,
   "id": "11f198a8",
   "metadata": {},
   "outputs": [
    {
     "ename": "NameError",
     "evalue": "name 'dtype' is not defined",
     "output_type": "error",
     "traceback": [
      "\u001b[31m---------------------------------------------------------------------------\u001b[39m",
      "\u001b[31mNameError\u001b[39m                                 Traceback (most recent call last)",
      "\u001b[36mCell\u001b[39m\u001b[36m \u001b[39m\u001b[32mIn[54]\u001b[39m\u001b[32m, line 5\u001b[39m\n\u001b[32m      1\u001b[39m \u001b[38;5;66;03m# 데이터 정보 확인 (행 개수, 열 개수, 컬럼명)\u001b[39;00m\n\u001b[32m      2\u001b[39m \n\u001b[32m      3\u001b[39m \u001b[38;5;66;03m# 데이터 타입 확인\u001b[39;00m\n\u001b[32m      4\u001b[39m df=pd.DataFrame(data)\n\u001b[32m----> \u001b[39m\u001b[32m5\u001b[39m \u001b[38;5;28mprint\u001b[39m(\u001b[43mdtype\u001b[49m)\n\u001b[32m      7\u001b[39m \u001b[38;5;66;03m# 기술 통계 요약\u001b[39;00m\n\u001b[32m      8\u001b[39m \n\u001b[32m      9\u001b[39m \u001b[38;5;66;03m# 범주형 데이터 빈도 (성별 카운트, 등급 카운트)\u001b[39;00m\n",
      "\u001b[31mNameError\u001b[39m: name 'dtype' is not defined"
     ]
    }
   ],
   "source": [
    "# 데이터 정보 확인 (행 개수, 열 개수, 컬럼명)\n",
    "\n",
    "# 데이터 타입 확인\n",
    "\n",
    "# 기술 통계 요약\n",
    "\n",
    "# 범주형 데이터 빈도 (성별 카운트, 등급 카운트)"
   ]
  },
  {
   "cell_type": "code",
   "execution_count": null,
   "id": "565c24ad",
   "metadata": {},
   "outputs": [],
   "source": [
    "# 1. 특정 열 선택\n",
    "print(\"1. 이름과 구매금액만 선택:\")\n",
    "\n",
    "# 2. 조건부 필터링\n",
    "print(\"\\n2. 구매금액이 70000원 이상인 고객:\")\n",
    "\n",
    "# 3. 다중 조건 필터링\n",
    "print(\"\\n3. 여성이면서 구매횟수가 4회 이상인 고객:\")\n",
    "\n",
    "# 4. 특정 값들로 필터링\n",
    "print(\"\\n4. 골드 또는 플래티넘 회원:\")"
   ]
  },
  {
   "cell_type": "code",
   "execution_count": null,
   "id": "1117a3ae",
   "metadata": {},
   "outputs": [],
   "source": [
    "# [안배웠지만 검색해서 적용해보기]\n",
    "\n",
    "# 구매금액 기준 정렬\n",
    "print(\"구매금액 기준 내림차순 정렬:\")\n",
    "\n",
    "# 여러 기준으로 정렬 ()\n",
    "print(\"\\n회원등급별, 구매금액별 정렬:\")\n"
   ]
  },
  {
   "cell_type": "code",
   "execution_count": null,
   "id": "62615d84",
   "metadata": {},
   "outputs": [],
   "source": [
    "# 금액 계산 (평균, 중앙, 최소, 최대, 표준편차)\n",
    "print(\"구매금액 통계:\")\n",
    "\n",
    "# 횟수 계산 (평균, 중앙, 최소, 최대, 표준편차)\n",
    "print(\"\\n구매횟수 통계:\")"
   ]
  },
  {
   "cell_type": "code",
   "execution_count": null,
   "id": "5a27950d",
   "metadata": {},
   "outputs": [],
   "source": [
    "# 성별별(Group) 기본 분석  \n",
    "print(\"성별별 분석:\")\n",
    "\n",
    "print('\\n횟수, 평균 통계:')\n",
    "\n",
    "print('\\n평균 구매 횟수')"
   ]
  },
  {
   "cell_type": "code",
   "execution_count": null,
   "id": "6c93ba88",
   "metadata": {},
   "outputs": [],
   "source": [
    "# 등급별(Group) 기본분석\n",
    "print('회원 등급별 평균 구매 금액 분석')"
   ]
  },
  {
   "cell_type": "code",
   "execution_count": null,
   "id": "af790d31",
   "metadata": {},
   "outputs": [
    {
     "name": "stdout",
     "output_type": "stream",
     "text": [
      "온라인 쇼핑몰 고객 데이터:\n",
      "   고객ID   이름  나이 성별   구매금액  구매횟수  회원등급\n",
      "0  1001  김민수  25  남  50000     3    실버\n",
      "1  1002  이지영  32  여  75000     5    골드\n",
      "2  1003  박철호  28  남  32000     2   브론즈\n",
      "3  1004  정수민  35  여  98000     7  플래티넘\n",
      "4  1005  최영희  29  여  67000     4    골드\n",
      "5  1006  강도현  31  남  84000     6    골드\n",
      "6  1007  윤서연  26  여  41000     2    실버\n",
      "7  1008  임태혁  33  남  72000     5    골드\n",
      "8  1009  송지원  27  여  58000     3    실버\n",
      "9  1010  한미래  30  여  89000     6  플래티넘\n",
      "    이름   구매금액\n",
      "0  김민수  50000\n",
      "1  이지영  75000\n",
      "2  박철호  32000\n",
      "3  정수민  98000\n",
      "4  최영희  67000\n",
      "5  강도현  84000\n",
      "6  윤서연  41000\n",
      "7  임태혁  72000\n",
      "8  송지원  58000\n",
      "9  한미래  89000\n",
      "\n",
      "1) 데이터 행, 열 개수 및 컬럼명:\n",
      "행 개수: 10 열 개수: 7\n",
      "컬럼명: ['고객ID', '이름', '나이', '성별', '구매금액', '구매횟수', '회원등급']\n",
      "\n",
      "2) 데이터 타입 확인:\n",
      "고객ID     int64\n",
      "이름      object\n",
      "나이       int64\n",
      "성별      object\n",
      "구매금액     int64\n",
      "구매횟수     int64\n",
      "회원등급    object\n",
      "dtype: object\n",
      "\n",
      "3) 기술 통계 요약 (나이, 구매금액, 구매횟수):\n",
      "              나이          구매금액       구매횟수\n",
      "count  10.000000     10.000000  10.000000\n",
      "mean   29.600000  66600.000000   4.300000\n",
      "std     3.204164  21323.956272   1.766981\n",
      "min    25.000000  32000.000000   2.000000\n",
      "25%    27.250000  52000.000000   3.000000\n",
      "50%    29.500000  69500.000000   4.500000\n",
      "75%    31.750000  81750.000000   5.750000\n",
      "max    35.000000  98000.000000   7.000000\n",
      "\n",
      "4) 성별, 회원등급 빈도수:\n",
      "성별\n",
      "여    6\n",
      "남    4\n",
      "Name: count, dtype: int64\n",
      "회원등급\n",
      "골드      4\n",
      "실버      3\n",
      "플래티넘    2\n",
      "브론즈     1\n",
      "Name: count, dtype: int64\n",
      "\n",
      "5) 이름과 구매금액만 선택:\n",
      "    이름   구매금액\n",
      "0  김민수  50000\n",
      "1  이지영  75000\n",
      "2  박철호  32000\n",
      "3  정수민  98000\n",
      "4  최영희  67000\n",
      "5  강도현  84000\n",
      "6  윤서연  41000\n",
      "7  임태혁  72000\n",
      "8  송지원  58000\n",
      "9  한미래  89000\n",
      "\n",
      "6) 구매금액이 70000 이상인 고객:\n",
      "   고객ID   이름  나이 성별   구매금액  구매횟수  회원등급\n",
      "1  1002  이지영  32  여  75000     5    골드\n",
      "3  1004  정수민  35  여  98000     7  플래티넘\n",
      "5  1006  강도현  31  남  84000     6    골드\n",
      "7  1008  임태혁  33  남  72000     5    골드\n",
      "9  1010  한미래  30  여  89000     6  플래티넘\n",
      "\n",
      "7) 여성이면서 구매횟수가 4 이상인 고객:\n",
      "   고객ID   이름  나이 성별   구매금액  구매횟수  회원등급\n",
      "1  1002  이지영  32  여  75000     5    골드\n",
      "3  1004  정수민  35  여  98000     7  플래티넘\n",
      "4  1005  최영희  29  여  67000     4    골드\n",
      "9  1010  한미래  30  여  89000     6  플래티넘\n",
      "\n",
      "8) 골드 또는 플래티넘 회원:\n",
      "   고객ID   이름  나이 성별   구매금액  구매횟수  회원등급\n",
      "1  1002  이지영  32  여  75000     5    골드\n",
      "3  1004  정수민  35  여  98000     7  플래티넘\n",
      "4  1005  최영희  29  여  67000     4    골드\n",
      "5  1006  강도현  31  남  84000     6    골드\n",
      "7  1008  임태혁  33  남  72000     5    골드\n",
      "9  1010  한미래  30  여  89000     6  플래티넘\n",
      "\n",
      "9) 구매금액 기준 내림차순 정렬:\n",
      "3    98000\n",
      "9    89000\n",
      "5    84000\n",
      "1    75000\n",
      "7    72000\n",
      "4    67000\n",
      "8    58000\n",
      "0    50000\n",
      "6    41000\n",
      "2    32000\n",
      "Name: 구매금액, dtype: int64\n",
      "\n",
      "10) 회원등급별(오름차순), 구매금액별(내림차순) 정렬:\n",
      "   고객ID   이름  나이 성별   구매금액  구매횟수  회원등급\n",
      "5  1006  강도현  31  남  84000     6    골드\n",
      "1  1002  이지영  32  여  75000     5    골드\n",
      "7  1008  임태혁  33  남  72000     5    골드\n",
      "4  1005  최영희  29  여  67000     4    골드\n",
      "2  1003  박철호  28  남  32000     2   브론즈\n",
      "8  1009  송지원  27  여  58000     3    실버\n",
      "0  1001  김민수  25  남  50000     3    실버\n",
      "6  1007  윤서연  26  여  41000     2    실버\n",
      "3  1004  정수민  35  여  98000     7  플래티넘\n",
      "9  1010  한미래  30  여  89000     6  플래티넘\n",
      "\n",
      "11) 구매금액 통계:\n",
      "평균: 66600.0\n",
      "중앙값: 69500.0\n",
      "최소값: 32000\n",
      "최대값: 98000\n",
      "표준편차: 21323.95627249107\n",
      "\n",
      "12) 구매횟수 통계:\n",
      "평균: 4.3\n",
      "중앙값: 4.5\n",
      "최소값: 2\n",
      "최대값: 7\n",
      "표준편차: 1.766981104093143\n",
      "\n",
      "13) 구매금액 상위 3명:\n",
      "   고객ID   이름  나이 성별   구매금액  구매횟수  회원등급\n",
      "3  1004  정수민  35  여  98000     7  플래티넘\n",
      "9  1010  한미래  30  여  89000     6  플래티넘\n",
      "5  1006  강도현  31  남  84000     6    골드\n",
      "\n",
      "14) 구매금액 하위 3명:\n",
      "   고객ID   이름  나이 성별   구매금액  구매횟수 회원등급\n",
      "2  1003  박철호  28  남  32000     2  브론즈\n",
      "6  1007  윤서연  26  여  41000     2   실버\n",
      "0  1001  김민수  25  남  50000     3   실버\n",
      "\n",
      "15) 성별별 고객 수 및 평균 구매금액:\n",
      "    고객 수        평균구매금액\n",
      "성별                    \n",
      "남      4  59500.000000\n",
      "여      6  71333.333333\n",
      "\n",
      "16) 성별별 평균 구매횟수:\n",
      "성별\n",
      "남    4.0\n",
      "여    4.5\n",
      "Name: 평균구매횟수, dtype: float64\n",
      "\n",
      "17) 회원등급별 평균 구매금액:\n",
      "회원등급\n",
      "골드      74500.000000\n",
      "브론즈     32000.000000\n",
      "실버      49666.666667\n",
      "플래티넘    93500.000000\n",
      "Name: 구매금액, dtype: float64\n"
     ]
    },
    {
     "data": {
      "image/png": "[encoded data removed]",
      "text/plain": [
       "<Figure size 1000x600 with 1 Axes>"
      ]
     },
     "metadata": {},
     "output_type": "display_data"
    },
    {
     "data": {
      "image/png": "[encoded data removed]",
      "text/plain": [
       "<Figure size 800x600 with 1 Axes>"
      ]
     },
     "metadata": {},
     "output_type": "display_data"
    },
    {
     "data": {
      "image/png": "[encoded data removed]",
      "text/plain": [
       "<Figure size 1200x600 with 1 Axes>"
      ]
     },
     "metadata": {},
     "output_type": "display_data"
    }
   ],
   "source": [
    "import pandas as pd\n",
    "import numpy as np\n",
    "import matplotlib.pyplot as plt\n",
    "\n",
    "# 0. 데이터 준비\n",
    "customer_data = {\n",
    "    '고객ID': [1001, 1002, 1003, 1004, 1005, 1006, 1007, 1008, 1009, 1010],\n",
    "    '이름': ['김민수', '이지영', '박철호', '정수민', '최영희', '강도현', '윤서연', '임태혁', '송지원', '한미래'],\n",
    "    '나이': [25, 32, 28, 35, 29, 31, 26, 33, 27, 30],\n",
    "    '성별': ['남', '여', '남', '여', '여', '남', '여', '남', '여', '여'],\n",
    "    '구매금액': [50000, 75000, 32000, 98000, 67000, 84000, 41000, 72000, 58000, 89000],\n",
    "    '구매횟수': [3, 5, 2, 7, 4, 6, 2, 5, 3, 6],\n",
    "    '회원등급': ['실버', '골드', '브론즈', '플래티넘', '골드', '골드', '실버', '골드', '실버', '플래티넘']\n",
    "}\n",
    "\n",
    "df = pd.DataFrame(customer_data)\n",
    "\n",
    "print(\"온라인 쇼핑몰 고객 데이터:\")\n",
    "print(df)\n",
    "print(df[['이름', '구매금액']])\n",
    "\n",
    "# 1. 데이터 기본 정보 확인\n",
    "print(\"\\n1) 데이터 행, 열 개수 및 컬럼명:\")\n",
    "row_count, col_count = df.shape\n",
    "print(\"행 개수:\", row_count, \"열 개수:\", col_count)\n",
    "print(\"컬럼명:\", list(df.columns))\n",
    "\n",
    "print(\"\\n2) 데이터 타입 확인:\")\n",
    "print(df.dtypes)\n",
    "\n",
    "print(\"\\n3) 기술 통계 요약 (나이, 구매금액, 구매횟수):\")\n",
    "print(df[['나이', '구매금액', '구매횟수']].describe())\n",
    "\n",
    "print(\"\\n4) 성별, 회원등급 빈도수:\")\n",
    "print(df['성별'].value_counts())\n",
    "print(df['회원등급'].value_counts())\n",
    "\n",
    "# 2. 특정 열 선택, 조건부 필터링, 다중 조건, 특정 값 필터링\n",
    "print(\"\\n5) 이름과 구매금액만 선택:\")\n",
    "print(df[['이름', '구매금액']])\n",
    "\n",
    "print(\"\\n6) 구매금액이 70000 이상인 고객:\")\n",
    "print(df[df['구매금액'] >= 70000])\n",
    "\n",
    "print(\"\\n7) 여성이면서 구매횟수가 4 이상인 고객:\")\n",
    "print(df[(df['성별'] == '여') & (df['구매횟수'] >= 4)])\n",
    "\n",
    "print(\"\\n8) 골드 또는 플래티넘 회원:\")\n",
    "print(df[df['회원등급'].isin(['골드', '플래티넘'])])\n",
    "\n",
    "# 3. 정렬\n",
    "print(\"\\n9) 구매금액 기준 내림차순 정렬:\")\n",
    "print(df.sort_values('구매금액', ascending=False)['구매금액'])\n",
    "\n",
    "print(\"\\n10) 회원등급별(오름차순), 구매금액별(내림차순) 정렬:\")\n",
    "print(df.sort_values(['회원등급', '구매금액'], ascending=[True, False]))\n",
    "\n",
    "# 4. 통계 계산\n",
    "print(\"\\n11) 구매금액 통계:\")\n",
    "print(\"평균:\", df['구매금액'].mean())\n",
    "print(\"중앙값:\", df['구매금액'].median())\n",
    "print(\"최소값:\", df['구매금액'].min())\n",
    "print(\"최대값:\", df['구매금액'].max())\n",
    "print(\"표준편차:\", df['구매금액'].std())\n",
    "\n",
    "print(\"\\n12) 구매횟수 통계:\")\n",
    "print(\"평균:\", df['구매횟수'].mean())\n",
    "print(\"중앙값:\", df['구매횟수'].median())\n",
    "print(\"최소값:\", df['구매횟수'].min())\n",
    "print(\"최대값:\", df['구매횟수'].max())\n",
    "print(\"표준편차:\", df['구매횟수'].std())\n",
    "\n",
    "print(\"\\n13) 구매금액 상위 3명:\")\n",
    "print(df.nlargest(3, '구매금액'))\n",
    "\n",
    "print(\"\\n14) 구매금액 하위 3명:\")\n",
    "print(df.nsmallest(3, '구매금액'))\n",
    "\n",
    "# 5. 그룹별 분석\n",
    "print(\"\\n15) 성별별 고객 수 및 평균 구매금액:\")\n",
    "gender_group = df.groupby('성별')['구매금액'].agg(['count', 'mean'])\n",
    "print(gender_group.rename(columns={'count': '고객 수', 'mean': '평균구매금액'}))\n",
    "\n",
    "print(\"\\n16) 성별별 평균 구매횟수:\")\n",
    "print(df.groupby('성별')['구매횟수'].mean().rename('평균구매횟수'))\n",
    "\n",
    "print(\"\\n17) 회원등급별 평균 구매금액:\")\n",
    "print(df.groupby('회원등급')['구매금액'].mean())\n",
    "\n",
    "# 6. 시각화\n",
    "# (VSCode에서 실행 시, plt.show()가 제대로 동작하는지 확인 필요)\n",
    "plt.figure(figsize=(10, 6))\n",
    "plt.hist(df['구매금액'], bins=5, edgecolor='black')\n",
    "plt.title('고객 구매금액 분포')\n",
    "plt.xlabel('구매금액 (원)')\n",
    "plt.ylabel('고객 수')\n",
    "plt.show()\n",
    "\n",
    "grade_counts = df['회원등급'].value_counts()\n",
    "plt.figure(figsize=(8, 6))\n",
    "plt.bar(grade_counts.index, grade_counts.values)\n",
    "plt.title('회원등급별 고객 수')\n",
    "plt.xlabel('회원등급')\n",
    "plt.ylabel('고객 수')\n",
    "plt.show()\n",
    "\n",
    "plt.figure(figsize=(12, 6))\n",
    "plt.bar(df['이름'], df['구매금액'])\n",
    "plt.title('고객별 구매금액')\n",
    "plt.xlabel('고객명')\n",
    "plt.ylabel('구매금액 (원)')\n",
    "plt.xticks(rotation=45)\n",
    "plt.tight_layout()\n",
    "plt.show()\n"
   ]
  },
  {
   "cell_type": "markdown",
   "id": "eca87ca2",
   "metadata": {},
   "source": [
    "## 결측치 처리"
   ]
  },
  {
   "cell_type": "code",
   "execution_count": null,
   "id": "a02f2a02",
   "metadata": {},
   "outputs": [],
   "source": [
    "import numpy as np\n",
    "import pandas as pd\n",
    "\n",
    "data = {\n",
    "    '이름': ['김철수', '이영희', '박민수', np.nan, '정지영'],\n",
    "    '나이': [25, 28, np.nan, 30, 22],\n",
    "    '성별': ['남', '여', '남', np.nan, '여'],\n",
    "    '직업': ['회사원', np.nan, '자영업', '공무원', '회사원'],\n",
    "    '급여': [3500, 4200, np.nan, 3800, 3200]\n",
    "}\n",
    "df= pd.DataFrame(data)\n",
    "\n",
    "\n",
    "\n",
    "\n",
    "\n",
    "\n",
    "\n",
    "\n",
    "\n",
    "\n",
    "\n",
    "\n",
    "\n",
    "\n"
   ]
  },
  {
   "cell_type": "markdown",
   "id": "c363b544",
   "metadata": {},
   "source": [
    "## 결측치 확인 "
   ]
  },
  {
   "cell_type": "code",
   "execution_count": null,
   "id": "c7ac0c4e",
   "metadata": {},
   "outputs": [
    {
     "name": "stdout",
     "output_type": "stream",
     "text": [
      "original     이름    나이   성별   직업      급여\n",
      "0  김철수  25.0    남  회사원  3500.0\n",
      "1  이영희  28.0    여  NaN  4200.0\n",
      "2  박민수   NaN    남  자영업     NaN\n",
      "3  NaN  30.0  NaN  공무원  3800.0\n",
      "4  정지영  22.0    여  회사원  3200.0\n",
      "      이름     나이     성별     직업     급여\n",
      "0  False  False  False  False  False\n",
      "1  False  False  False   True  False\n",
      "2  False   True  False  False   True\n",
      "3   True  False   True  False  False\n",
      "4  False  False  False  False  False\n",
      "      이름     나이     성별     직업     급여\n",
      "0  False  False  False  False  False\n",
      "1  False  False  False   True  False\n",
      "2  False   True  False  False   True\n",
      "3   True  False   True  False  False\n",
      "4  False  False  False  False  False\n",
      "이름    1\n",
      "나이    1\n",
      "성별    1\n",
      "직업    1\n",
      "급여    1\n",
      "dtype: int64\n"
     ]
    },
    {
     "data": {
      "text/plain": [
       "0     True\n",
       "1    False\n",
       "2    False\n",
       "3    False\n",
       "4     True\n",
       "dtype: bool"
      ]
     },
     "execution_count": 8,
     "metadata": {},
     "output_type": "execute_result"
    }
   ],
   "source": [
    "# 원본 데이터 출력\n",
    "print('original', df)\n",
    "\n",
    "# 결측치 자체 확인 (True/False 형태로 나옴)\n",
    "print(df.isna())\n",
    "\n",
    "# 또는 아래도 동일한 기능 (둘 중 하나만 쓰면 됨)\n",
    "print(df.isnull())\n",
    "\n",
    "# 각 컬럼별 결측치 개수 확인\n",
    "print(df.isna().sum())\n",
    "\n",
    "#결측치가 없는 행을 확인 \n",
    "df.notna().all(axis=1)"
   ]
  },
  {
   "cell_type": "markdown",
   "id": "e2ed85a7",
   "metadata": {},
   "source": [
    "## 결측치 처리 "
   ]
  },
  {
   "cell_type": "markdown",
   "id": "528c29cd",
   "metadata": {},
   "source": [
    "## 결측치 삭제"
   ]
  },
  {
   "cell_type": "code",
   "execution_count": null,
   "id": "4f35991d",
   "metadata": {},
   "outputs": [],
   "source": [
    "#모든 결측치가 있는 행을 삭제 \n",
    "df.dropna(axis=0)\n",
    "\n",
    "# 특정 열의 결측치가 있는 행만 삭제 -> 이름, 성별이 없는 행은 삭제 \n",
    "df.dropna(subset=['이름','성별'] , axis=0)\n",
    "# 모든값이 결측치이면 삭제\n",
    "df.dropna(how='all'"
   ]
  },
  {
   "cell_type": "markdown",
   "id": "bee5a200",
   "metadata": {},
   "source": [
    "## 결측치 채우기"
   ]
  },
  {
   "cell_type": "code",
   "execution_count": null,
   "id": "3d89aa9a",
   "metadata": {},
   "outputs": [],
   "source": [
    "# 특정으로 출결구하기\n",
    "                                      \n"
   ]
  },
  {
   "cell_type": "code",
   "execution_count": 10,
   "id": "d805762d",
   "metadata": {},
   "outputs": [
    {
     "data": {
      "text/plain": [
       "2023-01-01     1.0\n",
       "2023-01-02     2.0\n",
       "2023-01-03     NaN\n",
       "2023-01-04     4.0\n",
       "2023-01-05     5.0\n",
       "2023-01-06     NaN\n",
       "2023-01-07     NaN\n",
       "2023-01-08     8.0\n",
       "2023-01-09     9.0\n",
       "2023-01-10    10.0\n",
       "Freq: D, dtype: float64"
      ]
     },
     "execution_count": 10,
     "metadata": {},
     "output_type": "execute_result"
    }
   ],
   "source": [
    "# 시계열 데이터(시간)\n",
    "dates = pd.date_range('20230101', periods=10)\n",
    "time_data = pd.Series([1, 2, np.nan, 4, 5, np.nan, np.nan, 8, 9, 10], index=dates)\n",
    "\n",
    "time_data"
   ]
  },
  {
   "cell_type": "code",
   "execution_count": 12,
   "id": "e40d192a",
   "metadata": {},
   "outputs": [],
   "source": [
    "dates = pd.to_datetime(['2023-01-01', '2023-01-02', '2023-01-05', '2023-01-10'])\n",
    "data = [1, np.nan, np.nan, 10]\n",
    "\n",
    "time_data = pd.DataFrame({'value': data}, index=dates)"
   ]
  },
  {
   "cell_type": "code",
   "execution_count": null,
   "id": "955d212c",
   "metadata": {},
   "outputs": [
    {
     "data": {
      "text/html": [
       "<div>\n",
       "<style scoped>\n",
       "    .dataframe tbody tr th:only-of-type {\n",
       "        vertical-align: middle;\n",
       "    }\n",
       "\n",
       "    .dataframe tbody tr th {\n",
       "        vertical-align: top;\n",
       "    }\n",
       "\n",
       "    .dataframe thead th {\n",
       "        text-align: right;\n",
       "    }\n",
       "</style>\n",
       "<table border=\"1\" class=\"dataframe\">\n",
       "  <thead>\n",
       "    <tr style=\"text-align: right;\">\n",
       "      <th></th>\n",
       "      <th>value</th>\n",
       "    </tr>\n",
       "  </thead>\n",
       "  <tbody>\n",
       "    <tr>\n",
       "      <th>2023-01-01</th>\n",
       "      <td>1.0</td>\n",
       "    </tr>\n",
       "    <tr>\n",
       "      <th>2023-01-02</th>\n",
       "      <td>2.0</td>\n",
       "    </tr>\n",
       "    <tr>\n",
       "      <th>2023-01-05</th>\n",
       "      <td>5.0</td>\n",
       "    </tr>\n",
       "    <tr>\n",
       "      <th>2023-01-10</th>\n",
       "      <td>10.0</td>\n",
       "    </tr>\n",
       "  </tbody>\n",
       "</table>\n",
       "</div>"
      ],
      "text/plain": [
       "            value\n",
       "2023-01-01    1.0\n",
       "2023-01-02    2.0\n",
       "2023-01-05    5.0\n",
       "2023-01-10   10.0"
      ]
     },
     "execution_count": 13,
     "metadata": {},
     "output_type": "execute_result"
    }
   ],
   "source": [
    "# 보간법(알려진 값으로 모르는걸 추정)\n",
    "\n",
    "#선형 보간법(1차함수를 그려서 추정)-> 시간의 흐름은 신경쓰지 않음 \n",
    "time_data.interpolate(method='linear')\n",
    "\n",
    "#시간 기반-> 시간의 흐름까지 고려하여 채움\n",
    "time_data.interpolate(method='time')"
   ]
  },
  {
   "cell_type": "markdown",
   "id": "a04aa9e6",
   "metadata": {},
   "source": [
    "## 데이터 타입 변환 "
   ]
  },
  {
   "cell_type": "code",
   "execution_count": null,
   "id": "fcf5c5f9",
   "metadata": {},
   "outputs": [
    {
     "name": "stdout",
     "output_type": "stream",
     "text": [
      "원본 데이터:\n",
      "    이름                         이메일              전화번호         취미\n",
      "0  김철수             kim@example.com     010-1234-5678   축구,야구,농구\n",
      "1  이영희  lee.younghee@company.co.kr       02-987-6543      여행,독서\n",
      "2  박민수           park_ms@gmail.com     010 3456 7890   게임,음악,영화\n",
      "3  정지영          jyjeong@school.edu       01098765432     요리,베이킹\n",
      "4  최동민             choi@domain.net  +82-10-5555-6666  등산,자전거,수영\n",
      "\n",
      "이메일 대문자 변환:\n",
      "0               KIM@EXAMPLE.COM\n",
      "1    LEE.YOUNGHEE@COMPANY.CO.KR\n",
      "2             PARK_MS@GMAIL.COM\n",
      "3            JYJEONG@SCHOOL.EDU\n",
      "4               CHOI@DOMAIN.NET\n",
      "Name: 이메일, dtype: object\n",
      "\n",
      "이름 길이:\n",
      "0    3\n",
      "1    3\n",
      "2    3\n",
      "3    3\n",
      "4    3\n",
      "Name: 이름, dtype: int64\n",
      "\n",
      "지메일 사용자:\n",
      "0    False\n",
      "1    False\n",
      "2     True\n",
      "3    False\n",
      "4    False\n",
      "Name: 이메일, dtype: bool\n",
      "\n",
      "전화번호 형식 통일 (하이픈 제거):\n",
      "0      01012345678\n",
      "1        029876543\n",
      "2      01034567890\n",
      "3      01098765432\n",
      "4    +821055556666\n",
      "Name: 전화번호, dtype: object\n",
      "\n",
      "성씨 추출:\n",
      "0    김\n",
      "1    이\n",
      "2    박\n",
      "3    정\n",
      "4    최\n",
      "Name: 이름, dtype: object\n",
      "\n",
      "이메일 도메인 추출:\n",
      "         0\n",
      "0  example\n",
      "1  company\n",
      "2    gmail\n",
      "3   school\n",
      "4   domain\n",
      "\n",
      "취미 분할:\n",
      "0     [축구, 야구, 농구]\n",
      "1         [여행, 독서]\n",
      "2     [게임, 음악, 영화]\n",
      "3        [요리, 베이킹]\n",
      "4    [등산, 자전거, 수영]\n",
      "Name: 취미, dtype: object\n",
      "\n",
      "첫 번째 취미만 선택:\n",
      "0    축구\n",
      "1    여행\n",
      "2    게임\n",
      "3    요리\n",
      "4    등산\n",
      "Name: 취미, dtype: object\n",
      "\n",
      "이메일 분해:\n",
      "                          이메일          사용자명            도메인\n",
      "0             kim@example.com           kim    example.com\n",
      "1  lee.younghee@company.co.kr  lee.younghee  company.co.kr\n",
      "2           park_ms@gmail.com       park_ms      gmail.com\n",
      "3          jyjeong@school.edu       jyjeong     school.edu\n",
      "4             choi@domain.net          choi     domain.net\n"
     ]
    }
   ],
   "source": [
    "# 문자열 처리를 위한 샘플 데이터\n",
    "data = {\n",
    "    '이름': ['김철수', '이영희', '박민수', '정지영', '최동민'],\n",
    "    '이메일': ['kim@example.com', 'lee.younghee@company.co.kr', \n",
    "              'park_ms@gmail.com', 'jyjeong@school.edu', 'choi@domain.net'],\n",
    "    '전화번호': ['010-1234-5678', '02-987-6543', '010 3456 7890', \n",
    "              '01098765432', '+82-10-5555-6666'],\n",
    "    '취미': ['축구,야구,농구', '여행,독서', '게임,음악,영화',\n",
    "            '요리,베이킹', '등산,자전거,수영']\n",
    "}\n",
    "\n",
    "df = pd.DataFrame(data)\n",
    "print(\"원본 데이터:\")\n",
    "print(df)\n",
    "\n",
    "# 1. 기본 문자열 메서드\n",
    "# 대소문자 변환 (영문에 적용)\n",
    "print(\"\\n이메일 대문자 변환:\")\n",
    "print(df['이메일'].str.upper())\n",
    "\n",
    "# 문자열 길이\n",
    "print(\"\\n이름 길이:\")\n",
    "print(df['이름'].str.len())\n",
    "\n",
    "# 특정 문자열 포함 여부\n",
    "print(\"\\n지메일 사용자:\")\n",
    "print(df['이메일'].str.contains('gmail'))\n",
    "\n",
    "# 문자열 교체 (Series 데이터 각각에 str에서 사용하는 메서드를 쓰겠다.)\n",
    "print(\"\\n전화번호 형식 통일 (하이픈 제거):\")\n",
    "print(df['전화번호'].str.replace('-', '').str.replace(' ', ''))\n",
    "\n",
    "# 2. 문자열 추출\n",
    "# 처음 두 글자 추출 (성씨)\n",
    "print(\"\\n성씨 추출:\")\n",
    "print(df['이름'].str[:1])\n",
    "\n",
    "# 정규표현식 사용한 추출\n",
    "print(\"\\n이메일 도메인 추출:\")\n",
    "print(df['이메일'].str.extract(r'@([^.]+)'))  # @ 다음에 오는 도메인 이름 추출\n",
    "\n",
    "# 3. 문자열 분할\n",
    "# 구분자로 분할\n",
    "print(\"\\n취미 분할:\")\n",
    "hobbies_split = df['취미'].str.split(',')\n",
    "print(hobbies_split)\n",
    "\n",
    "# 분할 후 특정 위치 요소 선택\n",
    "print(\"\\n첫 번째 취미만 선택:\")\n",
    "print(df['취미'].str.split(',').str[0])\n",
    "\n",
    "# 4. 응용: 이메일에서 사용자명과 도메인 분리\n",
    "print(\"\\n이메일 분해:\")\n",
    "df[['사용자명', '도메인']] = df['이메일'].str.split('@', expand=True)\n",
    "print(df[['이메일', '사용자명', '도메인']])\n"
   ]
  },
  {
   "cell_type": "code",
   "execution_count": 16,
   "id": "ebb21b5f",
   "metadata": {},
   "outputs": [
    {
     "name": "stdout",
     "output_type": "stream",
     "text": [
      "Error: Unable to parse string \"three\" at position 2\n",
      "<class 'pandas.core.frame.DataFrame'>\n",
      "RangeIndex: 5 entries, 0 to 4\n",
      "Data columns (total 6 columns):\n",
      " #   Column  Non-Null Count  Dtype         \n",
      "---  ------  --------------  -----         \n",
      " 0   정수형     5 non-null      int64         \n",
      " 1   실수형     5 non-null      float64       \n",
      " 2   문자형     5 non-null      object        \n",
      " 3   불리언     5 non-null      bool          \n",
      " 4   날짜      5 non-null      datetime64[ns]\n",
      " 5   혼합형     5 non-null      object        \n",
      "dtypes: bool(1), datetime64[ns](1), float64(1), int64(1), object(2)\n",
      "memory usage: 337.0+ bytes\n"
     ]
    },
    {
     "name": "stderr",
     "output_type": "stream",
     "text": [
      "C:\\Users\\Public\\Documents\\ESTsoft\\CreatorTemp\\ipykernel_42348\\4073996261.py:37: FutureWarning: errors='ignore' is deprecated and will raise in a future version. Use to_numeric without passing `errors` and catch exceptions explicitly instead\n",
      "  pd.to_numeric(df['혼합형'], errors='ignore')\n"
     ]
    }
   ],
   "source": [
    "# 데이터 타입 변환\n",
    "data = {\n",
    "    '정수형': ['1', '2', '3', '4', '5'],\n",
    "    '실수형': ['1.1', '2.2', '3.3', '4.4', '5.5'],\n",
    "    '문자형': [1, 2, 3, 4, 5],\n",
    "    '불리언': ['True', 'False', 'True', 'False', 'True'],\n",
    "    '날짜': ['2023-01-01', '2023-02-01', '2023-03-01', '2023-04-01', '2023-05-01'],\n",
    "    '혼합형': ['1', '2.2', 'three', '4', 'NaN']\n",
    "}\n",
    "\n",
    "df = pd.DataFrame(data)\n",
    "\n",
    "# str -> int\n",
    "df['정수형'] = df['정수형'].astype(int)\n",
    "\n",
    "# str -> float\n",
    "df['실수형'] = df['실수형'].astype(float)\n",
    "\n",
    "# int -> str\n",
    "df['문자형'] = df['문자형'].astype(str)\n",
    "\n",
    "# str -> bool\n",
    "df['불리언'] = df['불리언'].astype(bool)\n",
    "\n",
    "\n",
    "# 혼합형은 어떻게 처리하는가? -> 전체적으로 바꿀 수 있는지 시도 | 오류 처리 옵션\n",
    "# 에러 처리\n",
    "try:\n",
    "    pd.to_numeric(df['혼합형'])\n",
    "except ValueError as e:\n",
    "    print(f'Error: {e}')\n",
    "\n",
    "# 변환 불가능하면, NaN 으로 처리\n",
    "pd.to_numeric(df['혼합형'], errors='coerce')\n",
    "\n",
    "# 변환 불가 -> 원래 데이터 유지\n",
    "pd.to_numeric(df['혼합형'], errors='ignore')\n",
    "\n",
    "# to_datetime()\n",
    "df['날짜'] = pd.to_datetime(df['날짜'])\n",
    "\n",
    "df.info()\n",
    "\n",
    "\n",
    "\n",
    "\n",
    "\n",
    "\n"
   ]
  },
  {
   "cell_type": "code",
   "execution_count": null,
   "id": "50eb6b8d",
   "metadata": {},
   "outputs": [],
   "source": []
  }
 ],
 "metadata": {
  "kernelspec": {
   "display_name": "Python 3",
   "language": "python",
   "name": "python3"
  },
  "language_info": {
   "codemirror_mode": {
    "name": "ipython",
    "version": 3
   },
   "file_extension": ".py",
   "mimetype": "text/x-python",
   "name": "python",
   "nbconvert_exporter": "python",
   "pygments_lexer": "ipython3",
   "version": "3.13.2"
  }
 },
 "nbformat": 4,
 "nbformat_minor": 5
}
