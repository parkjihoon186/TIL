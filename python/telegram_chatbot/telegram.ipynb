{
 "cells": [
  {
   "cell_type": "code",
   "execution_count": null,
   "id": "4caa8057",
   "metadata": {},
   "outputs": [],
   "source": []
  },
  {
   "cell_type": "code",
   "execution_count": null,
   "id": "10614b21",
   "metadata": {},
   "outputs": [],
   "source": []
  },
  {
   "cell_type": "code",
   "execution_count": 32,
   "id": "2be67692",
   "metadata": {},
   "outputs": [],
   "source": [
    "bot_token= '8467940013:AAHKnOq-EhMi7UHCK_0DMf4LPea3XgZNmNw'"
   ]
  },
  {
   "cell_type": "code",
   "execution_count": 33,
   "id": "2c57773b",
   "metadata": {},
   "outputs": [],
   "source": [
    "URL = f'https://api.telegram.org/bot{bot_token}'"
   ]
  },
  {
   "cell_type": "code",
   "execution_count": 34,
   "id": "4527fc16",
   "metadata": {},
   "outputs": [],
   "source": [
    "#bot 에 대한 정보"
   ]
  },
  {
   "cell_type": "code",
   "execution_count": 35,
   "id": "76d47e4e",
   "metadata": {},
   "outputs": [
    {
     "data": {
      "text/plain": [
       "'https://api.telegram.org/bot8467940013:AAHKnOq-EhMi7UHCK_0DMf4LPea3XgZNmNw/getUPdates'"
      ]
     },
     "execution_count": 35,
     "metadata": {},
     "output_type": "execute_result"
    }
   ],
   "source": [
    "URL + '/getUPdates'"
   ]
  },
  {
   "cell_type": "code",
   "execution_count": 36,
   "id": "248c0b78",
   "metadata": {},
   "outputs": [
    {
     "name": "stdout",
     "output_type": "stream",
     "text": [
      "https://api.telegram.org/bot8467940013:AAHKnOq-EhMi7UHCK_0DMf4LPea3XgZNmNw/sendMessage\n"
     ]
    }
   ],
   "source": [
    "#답장을 위한 상대방 id\n",
    "my_id='8434683794'\n",
    "#메시지\n",
    "message='응답하라 봇'\n",
    "\n",
    "print(URL + '/sendMessage')"
   ]
  },
  {
   "cell_type": "code",
   "execution_count": 37,
   "id": "969d6a92",
   "metadata": {},
   "outputs": [],
   "source": [
    "data={\n",
    "    \"ok\": True,\n",
    "    \"result\": [\n",
    "        {\n",
    "            \"update_id\": 283191216,\n",
    "            \"message\": {\n",
    "                \"message_id\": 1,\n",
    "                \"from\": {\n",
    "                    \"id\": 8434683794,\n",
    "                    \"is_bot\": False,\n",
    "                    \"first_name\": \"박지훈\",\n",
    "                    \"last_name\": \"남\",\n",
    "                    \"language_code\": \"ko\"\n",
    "                },\n",
    "                \"chat\": {\n",
    "                    \"id\": 8434683794,\n",
    "                    \"first_name\": \"박지훈\",\n",
    "                    \"last_name\": \"남\",\n",
    "                    \"type\": \"private\"\n",
    "                },\n",
    "                \"date\": 1753323120,\n",
    "                \"Text\": \"/start\",\n",
    "                \"entities\": [\n",
    "                    {\n",
    "                        \"offset\": 0,\n",
    "                        \"length\": 6,\n",
    "                        \"type\": \"bot_command\"\n",
    "                    }\n",
    "                ]\n",
    "            }\n",
    "        },\n",
    "        {\n",
    "            \"update_id\": 283191217,\n",
    "            \"message\": {\n",
    "                \"message_id\": 2,\n",
    "                \"from\": {\n",
    "                    \"id\": 8434683794,\n",
    "                    \"is_bot\": False,\n",
    "                    \"first_name\": \"박지훈\",\n",
    "                    \"last_name\": \"남\",\n",
    "                    \"language_code\": \"ko\"\n",
    "                },\n",
    "                \"chat\": {\n",
    "                    \"id\": 8434683794,\n",
    "                    \"first_name\": \"박지훈\",\n",
    "                    \"last_name\": \"남\",\n",
    "                    \"type\": \"private\"\n",
    "                },\n",
    "                \"date\": 1753323659,\n",
    "                \"text\": \"hello\"\n",
    "            }\n",
    "        },\n",
    "        {\n",
    "            \"update_id\": 283191218,\n",
    "            \"message\": {\n",
    "                \"message_id\": 3,\n",
    "                \"from\": {\n",
    "                    \"id\": 8434683794,\n",
    "                    \"is_bot\": False,\n",
    "                    \"first_name\": \"박지훈\",\n",
    "                    \"last_name\": \"남\",\n",
    "                    \"language_code\": \"ko\"\n",
    "                },\n",
    "                \"chat\": {\n",
    "                    \"id\": 8434683794,\n",
    "                    \"first_name\": \"박지훈\",\n",
    "                    \"last_name\": \"남\",\n",
    "                    \"type\": \"private\"\n",
    "                },\n",
    "                \"date\": 1753323756,\n",
    "                \"text\": \"야 메시지 갔냐\"\n",
    "            }\n",
    "        },\n",
    "        {\n",
    "            \"update_id\": 283191219,\n",
    "            \"message\": {\n",
    "                \"message_id\": 4,\n",
    "                \"from\": {\n",
    "                    \"id\": 8434683794,\n",
    "                    \"is_bot\": False,\n",
    "                    \"first_name\": \"박지훈\",\n",
    "                    \"last_name\": \"남\",\n",
    "                    \"language_code\": \"ko\"\n",
    "                },\n",
    "                \"chat\": {\n",
    "                    \"id\": 8434683794,\n",
    "                    \"first_name\": \"박지훈\",\n",
    "                    \"last_name\": \"남\",\n",
    "                    \"type\": \"private\"\n",
    "                },\n",
    "                \"date\": 1753323805,\n",
    "                \"text\": \"come?\"\n",
    "            }\n",
    "        },\n",
    "        {\n",
    "            \"update_id\": 283191220,\n",
    "            \"message\": {\n",
    "                \"message_id\": 7,\n",
    "                \"from\": {\n",
    "                    \"id\": 8434683794,\n",
    "                    \"is_bot\": False,\n",
    "                    \"first_name\": \"박지훈\",\n",
    "                    \"last_name\": \"남\",\n",
    "                    \"language_code\": \"ko\"\n",
    "                },\n",
    "                \"chat\": {\n",
    "                    \"id\": 8434683794,\n",
    "                    \"first_name\": \"박지훈\",\n",
    "                    \"last_name\": \"남\",\n",
    "                    \"type\": \"private\"\n",
    "                },\n",
    "                \"date\": 1753330826,\n",
    "                \"text\": \"로또\"\n",
    "            }\n",
    "        }\n",
    "    ]\n",
    "}"
   ]
  },
  {
   "cell_type": "code",
   "execution_count": 38,
   "id": "77771783",
   "metadata": {},
   "outputs": [],
   "source": [
    "# 데이터 안에 마지막 메세지의 text(내용)을 뽑아라 \n",
    "last_text = data['result'][-1]['message']['text']"
   ]
  },
  {
   "cell_type": "code",
   "execution_count": 39,
   "id": "de94520f",
   "metadata": {},
   "outputs": [
    {
     "name": "stdout",
     "output_type": "stream",
     "text": [
      "로또\n"
     ]
    }
   ],
   "source": [
    "print(last_text)"
   ]
  },
  {
   "cell_type": "code",
   "execution_count": 40,
   "id": "0620fdb9",
   "metadata": {},
   "outputs": [
    {
     "name": "stdout",
     "output_type": "stream",
     "text": [
      "로또 8434683794\n"
     ]
    }
   ],
   "source": [
    "#마지막 메시지의 보낸사람 id 뽑기\n",
    "last_chat_id  = data['result'][-1]['message']['from']['id']\n",
    "print(last_text,last_chat_id)"
   ]
  },
  {
   "cell_type": "code",
   "execution_count": 41,
   "id": "3b461397",
   "metadata": {},
   "outputs": [],
   "source": [
    "#"
   ]
  },
  {
   "cell_type": "code",
   "execution_count": null,
   "id": "780a6bb5",
   "metadata": {},
   "outputs": [],
   "source": []
  },
  {
   "cell_type": "code",
   "execution_count": null,
   "id": "34ef3e88",
   "metadata": {},
   "outputs": [],
   "source": []
  },
  {
   "cell_type": "code",
   "execution_count": 89,
   "id": "9b91f626",
   "metadata": {},
   "outputs": [
    {
     "name": "stdout",
     "output_type": "stream",
     "text": [
      "넌 자동맞냐? 8434683794\n"
     ]
    }
   ],
   "source": [
    "import requests\n",
    "# /getUPdates 로 요청 보내고 -> 응답 JSON  받아서 저장(실행할때마다 갱신)\n",
    "data = requests.get(URL + '/getUPdates').json()\n",
    "\n",
    "# 데이터 안에 마지막 메세지의 text(내용)을 뽑아라 \n",
    "input_msg = data['result'][-1]['message']['text']\n",
    "#마지막 메시지의 보낸사람 id 뽑기\n",
    "sender_id = data['result'][-1]['message']['from']['id']\n",
    "print(input_msg,sender_id)"
   ]
  },
  {
   "cell_type": "code",
   "execution_count": 90,
   "id": "9fce94e1",
   "metadata": {},
   "outputs": [],
   "source": [
    "import random\n",
    "# 메시지가 로또면, 로또번호 6개 만들어서 보내기 \n",
    "if input_msg in ('로또','lotto','가자'):\n",
    "    output_msg = str(random.sample(range(1,46),6))\n",
    "elif input_msg =='안녕':\n",
    "    output_msg = '오냐'\n",
    "else:\n",
    "   output_msg = '아직모른다'\n"
   ]
  },
  {
   "cell_type": "code",
   "execution_count": 91,
   "id": "aeecda52",
   "metadata": {},
   "outputs": [
    {
     "data": {
      "text/plain": [
       "{'ok': True,\n",
       " 'result': {'message_id': 33,\n",
       "  'from': {'id': 8467940013,\n",
       "   'is_bot': True,\n",
       "   'first_name': 'jihoon_1_bot',\n",
       "   'username': 'pjs_123_bot'},\n",
       "  'chat': {'id': 8434683794,\n",
       "   'first_name': '박지훈',\n",
       "   'last_name': '남',\n",
       "   'type': 'private'},\n",
       "  'date': 1753337792,\n",
       "  'text': '아직모른다'}}"
      ]
     },
     "execution_count": 91,
     "metadata": {},
     "output_type": "execute_result"
    }
   ],
   "source": [
    "# 메세지를 만들어서 전송 \n",
    "requests.get(URL + '/sendMessage', params=body).json()\n"
   ]
  }
 ],
 "metadata": {
  "kernelspec": {
   "display_name": "Python 3",
   "language": "python",
   "name": "python3"
  },
  "language_info": {
   "codemirror_mode": {
    "name": "ipython",
    "version": 3
   },
   "file_extension": ".py",
   "mimetype": "text/x-python",
   "name": "python",
   "nbconvert_exporter": "python",
   "pygments_lexer": "ipython3",
   "version": "3.13.2"
  }
 },
 "nbformat": 4,
 "nbformat_minor": 5
}
